{
 "cells": [
  {
   "cell_type": "markdown",
   "id": "24f3945b",
   "metadata": {},
   "source": [
    "# Подготовка. Изучение данных"
   ]
  },
  {
   "cell_type": "code",
   "execution_count": 42,
   "id": "56b907b8",
   "metadata": {},
   "outputs": [],
   "source": [
    "import pandas as pd\n",
    "from IPython.display import HTML, display"
   ]
  },
  {
   "cell_type": "code",
   "execution_count": 28,
   "id": "878f10ed",
   "metadata": {},
   "outputs": [],
   "source": [
    "pd.set_option('display.max_columns', None)"
   ]
  },
  {
   "cell_type": "markdown",
   "id": "9a297ba0",
   "metadata": {},
   "source": [
    "## Сессии"
   ]
  },
  {
   "cell_type": "code",
   "execution_count": 6,
   "id": "6bb737ff",
   "metadata": {},
   "outputs": [
    {
     "name": "stderr",
     "output_type": "stream",
     "text": [
      "C:\\Users\\Nik\\AppData\\Local\\Temp\\ipykernel_17860\\755692628.py:3: DtypeWarning: Columns (1) have mixed types. Specify dtype option on import or set low_memory=False.\n",
      "  sessions_df = pd.read_csv('data/ga_sessions.csv')\n"
     ]
    },
    {
     "data": {
      "text/html": [
       "<div>\n",
       "<style scoped>\n",
       "    .dataframe tbody tr th:only-of-type {\n",
       "        vertical-align: middle;\n",
       "    }\n",
       "\n",
       "    .dataframe tbody tr th {\n",
       "        vertical-align: top;\n",
       "    }\n",
       "\n",
       "    .dataframe thead th {\n",
       "        text-align: right;\n",
       "    }\n",
       "</style>\n",
       "<table border=\"1\" class=\"dataframe\">\n",
       "  <thead>\n",
       "    <tr style=\"text-align: right;\">\n",
       "      <th></th>\n",
       "      <th>session_id</th>\n",
       "      <th>client_id</th>\n",
       "      <th>visit_date</th>\n",
       "      <th>visit_time</th>\n",
       "      <th>visit_number</th>\n",
       "      <th>utm_source</th>\n",
       "      <th>utm_medium</th>\n",
       "      <th>utm_campaign</th>\n",
       "      <th>utm_adcontent</th>\n",
       "      <th>utm_keyword</th>\n",
       "      <th>device_category</th>\n",
       "      <th>device_os</th>\n",
       "      <th>device_brand</th>\n",
       "      <th>device_model</th>\n",
       "      <th>device_screen_resolution</th>\n",
       "      <th>device_browser</th>\n",
       "      <th>geo_country</th>\n",
       "      <th>geo_city</th>\n",
       "    </tr>\n",
       "  </thead>\n",
       "  <tbody>\n",
       "    <tr>\n",
       "      <th>0</th>\n",
       "      <td>9055434745589932991.1637753792.1637753792</td>\n",
       "      <td>2108382700.163776</td>\n",
       "      <td>2021-11-24</td>\n",
       "      <td>14:36:32</td>\n",
       "      <td>1</td>\n",
       "      <td>ZpYIoDJMcFzVoPFsHGJL</td>\n",
       "      <td>banner</td>\n",
       "      <td>LEoPHuyFvzoNfnzGgfcd</td>\n",
       "      <td>vCIpmpaGBnIQhyYNkXqp</td>\n",
       "      <td>puhZPIYqKXeFPaUviSjo</td>\n",
       "      <td>mobile</td>\n",
       "      <td>Android</td>\n",
       "      <td>Huawei</td>\n",
       "      <td>NaN</td>\n",
       "      <td>360x720</td>\n",
       "      <td>Chrome</td>\n",
       "      <td>Russia</td>\n",
       "      <td>Zlatoust</td>\n",
       "    </tr>\n",
       "    <tr>\n",
       "      <th>1</th>\n",
       "      <td>905544597018549464.1636867290.1636867290</td>\n",
       "      <td>210838531.163687</td>\n",
       "      <td>2021-11-14</td>\n",
       "      <td>08:21:30</td>\n",
       "      <td>1</td>\n",
       "      <td>MvfHsxITijuriZxsqZqt</td>\n",
       "      <td>cpm</td>\n",
       "      <td>FTjNLDyTrXaWYgZymFkV</td>\n",
       "      <td>xhoenQgDQsgfEPYNPwKO</td>\n",
       "      <td>IGUCNvHlhfHpROGclCit</td>\n",
       "      <td>mobile</td>\n",
       "      <td>Android</td>\n",
       "      <td>Samsung</td>\n",
       "      <td>NaN</td>\n",
       "      <td>385x854</td>\n",
       "      <td>Samsung Internet</td>\n",
       "      <td>Russia</td>\n",
       "      <td>Moscow</td>\n",
       "    </tr>\n",
       "    <tr>\n",
       "      <th>2</th>\n",
       "      <td>9055446045651783499.1640648526.1640648526</td>\n",
       "      <td>2108385331.164065</td>\n",
       "      <td>2021-12-28</td>\n",
       "      <td>02:42:06</td>\n",
       "      <td>1</td>\n",
       "      <td>ZpYIoDJMcFzVoPFsHGJL</td>\n",
       "      <td>banner</td>\n",
       "      <td>LEoPHuyFvzoNfnzGgfcd</td>\n",
       "      <td>vCIpmpaGBnIQhyYNkXqp</td>\n",
       "      <td>puhZPIYqKXeFPaUviSjo</td>\n",
       "      <td>mobile</td>\n",
       "      <td>Android</td>\n",
       "      <td>Huawei</td>\n",
       "      <td>NaN</td>\n",
       "      <td>360x720</td>\n",
       "      <td>Chrome</td>\n",
       "      <td>Russia</td>\n",
       "      <td>Krasnoyarsk</td>\n",
       "    </tr>\n",
       "    <tr>\n",
       "      <th>3</th>\n",
       "      <td>9055447046360770272.1622255328.1622255328</td>\n",
       "      <td>2108385564.162225</td>\n",
       "      <td>2021-05-29</td>\n",
       "      <td>05:00:00</td>\n",
       "      <td>1</td>\n",
       "      <td>kjsLglQLzykiRbcDiGcD</td>\n",
       "      <td>cpc</td>\n",
       "      <td>NaN</td>\n",
       "      <td>NOBKLgtuvqYWkXQHeYWM</td>\n",
       "      <td>NaN</td>\n",
       "      <td>mobile</td>\n",
       "      <td>NaN</td>\n",
       "      <td>Xiaomi</td>\n",
       "      <td>NaN</td>\n",
       "      <td>393x786</td>\n",
       "      <td>Chrome</td>\n",
       "      <td>Russia</td>\n",
       "      <td>Moscow</td>\n",
       "    </tr>\n",
       "    <tr>\n",
       "      <th>4</th>\n",
       "      <td>9055447046360770272.1622255345.1622255345</td>\n",
       "      <td>2108385564.162225</td>\n",
       "      <td>2021-05-29</td>\n",
       "      <td>05:00:00</td>\n",
       "      <td>2</td>\n",
       "      <td>kjsLglQLzykiRbcDiGcD</td>\n",
       "      <td>cpc</td>\n",
       "      <td>NaN</td>\n",
       "      <td>NaN</td>\n",
       "      <td>NaN</td>\n",
       "      <td>mobile</td>\n",
       "      <td>NaN</td>\n",
       "      <td>Xiaomi</td>\n",
       "      <td>NaN</td>\n",
       "      <td>393x786</td>\n",
       "      <td>Chrome</td>\n",
       "      <td>Russia</td>\n",
       "      <td>Moscow</td>\n",
       "    </tr>\n",
       "    <tr>\n",
       "      <th>...</th>\n",
       "      <td>...</td>\n",
       "      <td>...</td>\n",
       "      <td>...</td>\n",
       "      <td>...</td>\n",
       "      <td>...</td>\n",
       "      <td>...</td>\n",
       "      <td>...</td>\n",
       "      <td>...</td>\n",
       "      <td>...</td>\n",
       "      <td>...</td>\n",
       "      <td>...</td>\n",
       "      <td>...</td>\n",
       "      <td>...</td>\n",
       "      <td>...</td>\n",
       "      <td>...</td>\n",
       "      <td>...</td>\n",
       "      <td>...</td>\n",
       "      <td>...</td>\n",
       "    </tr>\n",
       "    <tr>\n",
       "      <th>1860037</th>\n",
       "      <td>9055415581448263752.1640159305.1640159305</td>\n",
       "      <td>2108378238.164016</td>\n",
       "      <td>2021-12-22</td>\n",
       "      <td>10:48:25</td>\n",
       "      <td>1</td>\n",
       "      <td>BHcvLfOaCWvWTykYqHVe</td>\n",
       "      <td>cpc</td>\n",
       "      <td>NaN</td>\n",
       "      <td>NaN</td>\n",
       "      <td>VlqBmecIOXWjCWUmQkLd</td>\n",
       "      <td>desktop</td>\n",
       "      <td>Windows</td>\n",
       "      <td>NaN</td>\n",
       "      <td>NaN</td>\n",
       "      <td>1920x1080</td>\n",
       "      <td>Chrome</td>\n",
       "      <td>Russia</td>\n",
       "      <td>Moscow</td>\n",
       "    </tr>\n",
       "    <tr>\n",
       "      <th>1860038</th>\n",
       "      <td>9055421130527858185.1622007305.1622007305</td>\n",
       "      <td>2108379530.162201</td>\n",
       "      <td>2021-05-26</td>\n",
       "      <td>08:00:00</td>\n",
       "      <td>1</td>\n",
       "      <td>fDLlAcSmythWSCVMvqvL</td>\n",
       "      <td>(none)</td>\n",
       "      <td>LTuZkdKfxRGVceoWkVyg</td>\n",
       "      <td>JNHcPlZPxEMWDnRiyoBf</td>\n",
       "      <td>NaN</td>\n",
       "      <td>mobile</td>\n",
       "      <td>NaN</td>\n",
       "      <td>Apple</td>\n",
       "      <td>NaN</td>\n",
       "      <td>390x844</td>\n",
       "      <td>Safari</td>\n",
       "      <td>Russia</td>\n",
       "      <td>Stavropol</td>\n",
       "    </tr>\n",
       "    <tr>\n",
       "      <th>1860039</th>\n",
       "      <td>9055422955903931195.1636979515.1636979515</td>\n",
       "      <td>2108379955.163697</td>\n",
       "      <td>2021-11-15</td>\n",
       "      <td>15:31:55</td>\n",
       "      <td>1</td>\n",
       "      <td>fDLlAcSmythWSCVMvqvL</td>\n",
       "      <td>(none)</td>\n",
       "      <td>LTuZkdKfxRGVceoWkVyg</td>\n",
       "      <td>JNHcPlZPxEMWDnRiyoBf</td>\n",
       "      <td>puhZPIYqKXeFPaUviSjo</td>\n",
       "      <td>mobile</td>\n",
       "      <td>iOS</td>\n",
       "      <td>Apple</td>\n",
       "      <td>NaN</td>\n",
       "      <td>375x667</td>\n",
       "      <td>Safari</td>\n",
       "      <td>Russia</td>\n",
       "      <td>Moscow</td>\n",
       "    </tr>\n",
       "    <tr>\n",
       "      <th>1860040</th>\n",
       "      <td>905543020766873816.1638189404.1638189404</td>\n",
       "      <td>210838164.163819</td>\n",
       "      <td>2021-11-29</td>\n",
       "      <td>15:36:44</td>\n",
       "      <td>1</td>\n",
       "      <td>ZpYIoDJMcFzVoPFsHGJL</td>\n",
       "      <td>banner</td>\n",
       "      <td>LEoPHuyFvzoNfnzGgfcd</td>\n",
       "      <td>JNHcPlZPxEMWDnRiyoBf</td>\n",
       "      <td>puhZPIYqKXeFPaUviSjo</td>\n",
       "      <td>mobile</td>\n",
       "      <td>Android</td>\n",
       "      <td>Xiaomi</td>\n",
       "      <td>NaN</td>\n",
       "      <td>393x851</td>\n",
       "      <td>Chrome</td>\n",
       "      <td>Russia</td>\n",
       "      <td>Chelyabinsk</td>\n",
       "    </tr>\n",
       "    <tr>\n",
       "      <th>1860041</th>\n",
       "      <td>9055430416266113553.1640968742.1640968742</td>\n",
       "      <td>2108381692.164097</td>\n",
       "      <td>2021-12-31</td>\n",
       "      <td>19:39:02</td>\n",
       "      <td>1</td>\n",
       "      <td>fgymSoTvjKPEgaIJqsiH</td>\n",
       "      <td>cpm</td>\n",
       "      <td>FTjNLDyTrXaWYgZymFkV</td>\n",
       "      <td>yYdBRbPmBMUZHXwqGxNx</td>\n",
       "      <td>oKjXDUsycmahkgMhGdAR</td>\n",
       "      <td>desktop</td>\n",
       "      <td>Linux</td>\n",
       "      <td>NaN</td>\n",
       "      <td>NaN</td>\n",
       "      <td>1366x768</td>\n",
       "      <td>Chrome</td>\n",
       "      <td>Russia</td>\n",
       "      <td>Moscow</td>\n",
       "    </tr>\n",
       "  </tbody>\n",
       "</table>\n",
       "<p>1860042 rows × 18 columns</p>\n",
       "</div>"
      ],
      "text/plain": [
       "                                        session_id          client_id  \\\n",
       "0        9055434745589932991.1637753792.1637753792  2108382700.163776   \n",
       "1         905544597018549464.1636867290.1636867290   210838531.163687   \n",
       "2        9055446045651783499.1640648526.1640648526  2108385331.164065   \n",
       "3        9055447046360770272.1622255328.1622255328  2108385564.162225   \n",
       "4        9055447046360770272.1622255345.1622255345  2108385564.162225   \n",
       "...                                            ...                ...   \n",
       "1860037  9055415581448263752.1640159305.1640159305  2108378238.164016   \n",
       "1860038  9055421130527858185.1622007305.1622007305  2108379530.162201   \n",
       "1860039  9055422955903931195.1636979515.1636979515  2108379955.163697   \n",
       "1860040   905543020766873816.1638189404.1638189404   210838164.163819   \n",
       "1860041  9055430416266113553.1640968742.1640968742  2108381692.164097   \n",
       "\n",
       "         visit_date visit_time  visit_number            utm_source utm_medium  \\\n",
       "0        2021-11-24   14:36:32             1  ZpYIoDJMcFzVoPFsHGJL     banner   \n",
       "1        2021-11-14   08:21:30             1  MvfHsxITijuriZxsqZqt        cpm   \n",
       "2        2021-12-28   02:42:06             1  ZpYIoDJMcFzVoPFsHGJL     banner   \n",
       "3        2021-05-29   05:00:00             1  kjsLglQLzykiRbcDiGcD        cpc   \n",
       "4        2021-05-29   05:00:00             2  kjsLglQLzykiRbcDiGcD        cpc   \n",
       "...             ...        ...           ...                   ...        ...   \n",
       "1860037  2021-12-22   10:48:25             1  BHcvLfOaCWvWTykYqHVe        cpc   \n",
       "1860038  2021-05-26   08:00:00             1  fDLlAcSmythWSCVMvqvL     (none)   \n",
       "1860039  2021-11-15   15:31:55             1  fDLlAcSmythWSCVMvqvL     (none)   \n",
       "1860040  2021-11-29   15:36:44             1  ZpYIoDJMcFzVoPFsHGJL     banner   \n",
       "1860041  2021-12-31   19:39:02             1  fgymSoTvjKPEgaIJqsiH        cpm   \n",
       "\n",
       "                 utm_campaign         utm_adcontent           utm_keyword  \\\n",
       "0        LEoPHuyFvzoNfnzGgfcd  vCIpmpaGBnIQhyYNkXqp  puhZPIYqKXeFPaUviSjo   \n",
       "1        FTjNLDyTrXaWYgZymFkV  xhoenQgDQsgfEPYNPwKO  IGUCNvHlhfHpROGclCit   \n",
       "2        LEoPHuyFvzoNfnzGgfcd  vCIpmpaGBnIQhyYNkXqp  puhZPIYqKXeFPaUviSjo   \n",
       "3                         NaN  NOBKLgtuvqYWkXQHeYWM                   NaN   \n",
       "4                         NaN                   NaN                   NaN   \n",
       "...                       ...                   ...                   ...   \n",
       "1860037                   NaN                   NaN  VlqBmecIOXWjCWUmQkLd   \n",
       "1860038  LTuZkdKfxRGVceoWkVyg  JNHcPlZPxEMWDnRiyoBf                   NaN   \n",
       "1860039  LTuZkdKfxRGVceoWkVyg  JNHcPlZPxEMWDnRiyoBf  puhZPIYqKXeFPaUviSjo   \n",
       "1860040  LEoPHuyFvzoNfnzGgfcd  JNHcPlZPxEMWDnRiyoBf  puhZPIYqKXeFPaUviSjo   \n",
       "1860041  FTjNLDyTrXaWYgZymFkV  yYdBRbPmBMUZHXwqGxNx  oKjXDUsycmahkgMhGdAR   \n",
       "\n",
       "        device_category device_os device_brand device_model  \\\n",
       "0                mobile   Android       Huawei          NaN   \n",
       "1                mobile   Android      Samsung          NaN   \n",
       "2                mobile   Android       Huawei          NaN   \n",
       "3                mobile       NaN       Xiaomi          NaN   \n",
       "4                mobile       NaN       Xiaomi          NaN   \n",
       "...                 ...       ...          ...          ...   \n",
       "1860037         desktop   Windows          NaN          NaN   \n",
       "1860038          mobile       NaN        Apple          NaN   \n",
       "1860039          mobile       iOS        Apple          NaN   \n",
       "1860040          mobile   Android       Xiaomi          NaN   \n",
       "1860041         desktop     Linux          NaN          NaN   \n",
       "\n",
       "        device_screen_resolution    device_browser geo_country     geo_city  \n",
       "0                        360x720            Chrome      Russia     Zlatoust  \n",
       "1                        385x854  Samsung Internet      Russia       Moscow  \n",
       "2                        360x720            Chrome      Russia  Krasnoyarsk  \n",
       "3                        393x786            Chrome      Russia       Moscow  \n",
       "4                        393x786            Chrome      Russia       Moscow  \n",
       "...                          ...               ...         ...          ...  \n",
       "1860037                1920x1080            Chrome      Russia       Moscow  \n",
       "1860038                  390x844            Safari      Russia    Stavropol  \n",
       "1860039                  375x667            Safari      Russia       Moscow  \n",
       "1860040                  393x851            Chrome      Russia  Chelyabinsk  \n",
       "1860041                 1366x768            Chrome      Russia       Moscow  \n",
       "\n",
       "[1860042 rows x 18 columns]"
      ]
     },
     "execution_count": 6,
     "metadata": {},
     "output_type": "execute_result"
    }
   ],
   "source": [
    "# датафрейм сессий\n",
    "# Одна строка = один визит на сайт.\n",
    "sessions_df = pd.read_csv('data/ga_sessions.csv')\n",
    "sessions_df"
   ]
  },
  {
   "cell_type": "code",
   "execution_count": 7,
   "id": "f2a19985",
   "metadata": {},
   "outputs": [
    {
     "data": {
      "text/plain": [
       "(1860042, 18)"
      ]
     },
     "execution_count": 7,
     "metadata": {},
     "output_type": "execute_result"
    }
   ],
   "source": [
    "sessions_df.shape"
   ]
  },
  {
   "cell_type": "code",
   "execution_count": 8,
   "id": "2a508759",
   "metadata": {},
   "outputs": [
    {
     "data": {
      "text/plain": [
       "Index(['session_id', 'client_id', 'visit_date', 'visit_time', 'visit_number',\n",
       "       'utm_source', 'utm_medium', 'utm_campaign', 'utm_adcontent',\n",
       "       'utm_keyword', 'device_category', 'device_os', 'device_brand',\n",
       "       'device_model', 'device_screen_resolution', 'device_browser',\n",
       "       'geo_country', 'geo_city'],\n",
       "      dtype='object')"
      ]
     },
     "execution_count": 8,
     "metadata": {},
     "output_type": "execute_result"
    }
   ],
   "source": [
    "sessions_df.columns"
   ]
  },
  {
   "cell_type": "code",
   "execution_count": 9,
   "id": "3b313c65",
   "metadata": {},
   "outputs": [
    {
     "data": {
      "text/html": [
       "<div>\n",
       "<style scoped>\n",
       "    .dataframe tbody tr th:only-of-type {\n",
       "        vertical-align: middle;\n",
       "    }\n",
       "\n",
       "    .dataframe tbody tr th {\n",
       "        vertical-align: top;\n",
       "    }\n",
       "\n",
       "    .dataframe thead th {\n",
       "        text-align: right;\n",
       "    }\n",
       "</style>\n",
       "<table border=\"1\" class=\"dataframe\">\n",
       "  <thead>\n",
       "    <tr style=\"text-align: right;\">\n",
       "      <th></th>\n",
       "      <th>session_id</th>\n",
       "      <th>client_id</th>\n",
       "      <th>visit_date</th>\n",
       "      <th>visit_time</th>\n",
       "      <th>visit_number</th>\n",
       "      <th>utm_source</th>\n",
       "      <th>utm_medium</th>\n",
       "      <th>utm_campaign</th>\n",
       "      <th>utm_adcontent</th>\n",
       "      <th>utm_keyword</th>\n",
       "      <th>device_category</th>\n",
       "      <th>device_os</th>\n",
       "      <th>device_brand</th>\n",
       "      <th>device_model</th>\n",
       "      <th>device_screen_resolution</th>\n",
       "      <th>device_browser</th>\n",
       "      <th>geo_country</th>\n",
       "      <th>geo_city</th>\n",
       "    </tr>\n",
       "  </thead>\n",
       "  <tbody>\n",
       "    <tr>\n",
       "      <th>count</th>\n",
       "      <td>1860042</td>\n",
       "      <td>1.860042e+06</td>\n",
       "      <td>1860042</td>\n",
       "      <td>1860042</td>\n",
       "      <td>1.860042e+06</td>\n",
       "      <td>1859945</td>\n",
       "      <td>1860042</td>\n",
       "      <td>1640439</td>\n",
       "      <td>1524427</td>\n",
       "      <td>777981</td>\n",
       "      <td>1860042</td>\n",
       "      <td>789904</td>\n",
       "      <td>1492864</td>\n",
       "      <td>16338</td>\n",
       "      <td>1860042</td>\n",
       "      <td>1860042</td>\n",
       "      <td>1860042</td>\n",
       "      <td>1860042</td>\n",
       "    </tr>\n",
       "    <tr>\n",
       "      <th>unique</th>\n",
       "      <td>1860042</td>\n",
       "      <td>1.391717e+06</td>\n",
       "      <td>226</td>\n",
       "      <td>85318</td>\n",
       "      <td>NaN</td>\n",
       "      <td>293</td>\n",
       "      <td>56</td>\n",
       "      <td>412</td>\n",
       "      <td>286</td>\n",
       "      <td>1219</td>\n",
       "      <td>3</td>\n",
       "      <td>13</td>\n",
       "      <td>205</td>\n",
       "      <td>104</td>\n",
       "      <td>5039</td>\n",
       "      <td>57</td>\n",
       "      <td>166</td>\n",
       "      <td>2548</td>\n",
       "    </tr>\n",
       "    <tr>\n",
       "      <th>top</th>\n",
       "      <td>9055434745589932991.1637753792.1637753792</td>\n",
       "      <td>1.750498e+09</td>\n",
       "      <td>2021-05-24</td>\n",
       "      <td>12:00:00</td>\n",
       "      <td>NaN</td>\n",
       "      <td>ZpYIoDJMcFzVoPFsHGJL</td>\n",
       "      <td>banner</td>\n",
       "      <td>LTuZkdKfxRGVceoWkVyg</td>\n",
       "      <td>JNHcPlZPxEMWDnRiyoBf</td>\n",
       "      <td>puhZPIYqKXeFPaUviSjo</td>\n",
       "      <td>mobile</td>\n",
       "      <td>Android</td>\n",
       "      <td>Apple</td>\n",
       "      <td>AuMdmADEIoPXiWpTsBEj</td>\n",
       "      <td>414x896</td>\n",
       "      <td>Chrome</td>\n",
       "      <td>Russia</td>\n",
       "      <td>Moscow</td>\n",
       "    </tr>\n",
       "    <tr>\n",
       "      <th>freq</th>\n",
       "      <td>1</td>\n",
       "      <td>4.620000e+02</td>\n",
       "      <td>39453</td>\n",
       "      <td>61067</td>\n",
       "      <td>NaN</td>\n",
       "      <td>578290</td>\n",
       "      <td>552272</td>\n",
       "      <td>463481</td>\n",
       "      <td>1006599</td>\n",
       "      <td>506819</td>\n",
       "      <td>1474871</td>\n",
       "      <td>464054</td>\n",
       "      <td>551088</td>\n",
       "      <td>9778</td>\n",
       "      <td>169090</td>\n",
       "      <td>1013436</td>\n",
       "      <td>1800565</td>\n",
       "      <td>805329</td>\n",
       "    </tr>\n",
       "    <tr>\n",
       "      <th>mean</th>\n",
       "      <td>NaN</td>\n",
       "      <td>NaN</td>\n",
       "      <td>NaN</td>\n",
       "      <td>NaN</td>\n",
       "      <td>2.712804e+00</td>\n",
       "      <td>NaN</td>\n",
       "      <td>NaN</td>\n",
       "      <td>NaN</td>\n",
       "      <td>NaN</td>\n",
       "      <td>NaN</td>\n",
       "      <td>NaN</td>\n",
       "      <td>NaN</td>\n",
       "      <td>NaN</td>\n",
       "      <td>NaN</td>\n",
       "      <td>NaN</td>\n",
       "      <td>NaN</td>\n",
       "      <td>NaN</td>\n",
       "      <td>NaN</td>\n",
       "    </tr>\n",
       "    <tr>\n",
       "      <th>std</th>\n",
       "      <td>NaN</td>\n",
       "      <td>NaN</td>\n",
       "      <td>NaN</td>\n",
       "      <td>NaN</td>\n",
       "      <td>1.182907e+01</td>\n",
       "      <td>NaN</td>\n",
       "      <td>NaN</td>\n",
       "      <td>NaN</td>\n",
       "      <td>NaN</td>\n",
       "      <td>NaN</td>\n",
       "      <td>NaN</td>\n",
       "      <td>NaN</td>\n",
       "      <td>NaN</td>\n",
       "      <td>NaN</td>\n",
       "      <td>NaN</td>\n",
       "      <td>NaN</td>\n",
       "      <td>NaN</td>\n",
       "      <td>NaN</td>\n",
       "    </tr>\n",
       "    <tr>\n",
       "      <th>min</th>\n",
       "      <td>NaN</td>\n",
       "      <td>NaN</td>\n",
       "      <td>NaN</td>\n",
       "      <td>NaN</td>\n",
       "      <td>1.000000e+00</td>\n",
       "      <td>NaN</td>\n",
       "      <td>NaN</td>\n",
       "      <td>NaN</td>\n",
       "      <td>NaN</td>\n",
       "      <td>NaN</td>\n",
       "      <td>NaN</td>\n",
       "      <td>NaN</td>\n",
       "      <td>NaN</td>\n",
       "      <td>NaN</td>\n",
       "      <td>NaN</td>\n",
       "      <td>NaN</td>\n",
       "      <td>NaN</td>\n",
       "      <td>NaN</td>\n",
       "    </tr>\n",
       "    <tr>\n",
       "      <th>25%</th>\n",
       "      <td>NaN</td>\n",
       "      <td>NaN</td>\n",
       "      <td>NaN</td>\n",
       "      <td>NaN</td>\n",
       "      <td>1.000000e+00</td>\n",
       "      <td>NaN</td>\n",
       "      <td>NaN</td>\n",
       "      <td>NaN</td>\n",
       "      <td>NaN</td>\n",
       "      <td>NaN</td>\n",
       "      <td>NaN</td>\n",
       "      <td>NaN</td>\n",
       "      <td>NaN</td>\n",
       "      <td>NaN</td>\n",
       "      <td>NaN</td>\n",
       "      <td>NaN</td>\n",
       "      <td>NaN</td>\n",
       "      <td>NaN</td>\n",
       "    </tr>\n",
       "    <tr>\n",
       "      <th>50%</th>\n",
       "      <td>NaN</td>\n",
       "      <td>NaN</td>\n",
       "      <td>NaN</td>\n",
       "      <td>NaN</td>\n",
       "      <td>1.000000e+00</td>\n",
       "      <td>NaN</td>\n",
       "      <td>NaN</td>\n",
       "      <td>NaN</td>\n",
       "      <td>NaN</td>\n",
       "      <td>NaN</td>\n",
       "      <td>NaN</td>\n",
       "      <td>NaN</td>\n",
       "      <td>NaN</td>\n",
       "      <td>NaN</td>\n",
       "      <td>NaN</td>\n",
       "      <td>NaN</td>\n",
       "      <td>NaN</td>\n",
       "      <td>NaN</td>\n",
       "    </tr>\n",
       "    <tr>\n",
       "      <th>75%</th>\n",
       "      <td>NaN</td>\n",
       "      <td>NaN</td>\n",
       "      <td>NaN</td>\n",
       "      <td>NaN</td>\n",
       "      <td>2.000000e+00</td>\n",
       "      <td>NaN</td>\n",
       "      <td>NaN</td>\n",
       "      <td>NaN</td>\n",
       "      <td>NaN</td>\n",
       "      <td>NaN</td>\n",
       "      <td>NaN</td>\n",
       "      <td>NaN</td>\n",
       "      <td>NaN</td>\n",
       "      <td>NaN</td>\n",
       "      <td>NaN</td>\n",
       "      <td>NaN</td>\n",
       "      <td>NaN</td>\n",
       "      <td>NaN</td>\n",
       "    </tr>\n",
       "    <tr>\n",
       "      <th>max</th>\n",
       "      <td>NaN</td>\n",
       "      <td>NaN</td>\n",
       "      <td>NaN</td>\n",
       "      <td>NaN</td>\n",
       "      <td>5.640000e+02</td>\n",
       "      <td>NaN</td>\n",
       "      <td>NaN</td>\n",
       "      <td>NaN</td>\n",
       "      <td>NaN</td>\n",
       "      <td>NaN</td>\n",
       "      <td>NaN</td>\n",
       "      <td>NaN</td>\n",
       "      <td>NaN</td>\n",
       "      <td>NaN</td>\n",
       "      <td>NaN</td>\n",
       "      <td>NaN</td>\n",
       "      <td>NaN</td>\n",
       "      <td>NaN</td>\n",
       "    </tr>\n",
       "  </tbody>\n",
       "</table>\n",
       "</div>"
      ],
      "text/plain": [
       "                                       session_id     client_id  visit_date  \\\n",
       "count                                     1860042  1.860042e+06     1860042   \n",
       "unique                                    1860042  1.391717e+06         226   \n",
       "top     9055434745589932991.1637753792.1637753792  1.750498e+09  2021-05-24   \n",
       "freq                                            1  4.620000e+02       39453   \n",
       "mean                                          NaN           NaN         NaN   \n",
       "std                                           NaN           NaN         NaN   \n",
       "min                                           NaN           NaN         NaN   \n",
       "25%                                           NaN           NaN         NaN   \n",
       "50%                                           NaN           NaN         NaN   \n",
       "75%                                           NaN           NaN         NaN   \n",
       "max                                           NaN           NaN         NaN   \n",
       "\n",
       "       visit_time  visit_number            utm_source utm_medium  \\\n",
       "count     1860042  1.860042e+06               1859945    1860042   \n",
       "unique      85318           NaN                   293         56   \n",
       "top      12:00:00           NaN  ZpYIoDJMcFzVoPFsHGJL     banner   \n",
       "freq        61067           NaN                578290     552272   \n",
       "mean          NaN  2.712804e+00                   NaN        NaN   \n",
       "std           NaN  1.182907e+01                   NaN        NaN   \n",
       "min           NaN  1.000000e+00                   NaN        NaN   \n",
       "25%           NaN  1.000000e+00                   NaN        NaN   \n",
       "50%           NaN  1.000000e+00                   NaN        NaN   \n",
       "75%           NaN  2.000000e+00                   NaN        NaN   \n",
       "max           NaN  5.640000e+02                   NaN        NaN   \n",
       "\n",
       "                utm_campaign         utm_adcontent           utm_keyword  \\\n",
       "count                1640439               1524427                777981   \n",
       "unique                   412                   286                  1219   \n",
       "top     LTuZkdKfxRGVceoWkVyg  JNHcPlZPxEMWDnRiyoBf  puhZPIYqKXeFPaUviSjo   \n",
       "freq                  463481               1006599                506819   \n",
       "mean                     NaN                   NaN                   NaN   \n",
       "std                      NaN                   NaN                   NaN   \n",
       "min                      NaN                   NaN                   NaN   \n",
       "25%                      NaN                   NaN                   NaN   \n",
       "50%                      NaN                   NaN                   NaN   \n",
       "75%                      NaN                   NaN                   NaN   \n",
       "max                      NaN                   NaN                   NaN   \n",
       "\n",
       "       device_category device_os device_brand          device_model  \\\n",
       "count          1860042    789904      1492864                 16338   \n",
       "unique               3        13          205                   104   \n",
       "top             mobile   Android        Apple  AuMdmADEIoPXiWpTsBEj   \n",
       "freq           1474871    464054       551088                  9778   \n",
       "mean               NaN       NaN          NaN                   NaN   \n",
       "std                NaN       NaN          NaN                   NaN   \n",
       "min                NaN       NaN          NaN                   NaN   \n",
       "25%                NaN       NaN          NaN                   NaN   \n",
       "50%                NaN       NaN          NaN                   NaN   \n",
       "75%                NaN       NaN          NaN                   NaN   \n",
       "max                NaN       NaN          NaN                   NaN   \n",
       "\n",
       "       device_screen_resolution device_browser geo_country geo_city  \n",
       "count                   1860042        1860042     1860042  1860042  \n",
       "unique                     5039             57         166     2548  \n",
       "top                     414x896         Chrome      Russia   Moscow  \n",
       "freq                     169090        1013436     1800565   805329  \n",
       "mean                        NaN            NaN         NaN      NaN  \n",
       "std                         NaN            NaN         NaN      NaN  \n",
       "min                         NaN            NaN         NaN      NaN  \n",
       "25%                         NaN            NaN         NaN      NaN  \n",
       "50%                         NaN            NaN         NaN      NaN  \n",
       "75%                         NaN            NaN         NaN      NaN  \n",
       "max                         NaN            NaN         NaN      NaN  "
      ]
     },
     "execution_count": 9,
     "metadata": {},
     "output_type": "execute_result"
    }
   ],
   "source": [
    "sessions_df.describe(include='all')"
   ]
  },
  {
   "cell_type": "code",
   "execution_count": 10,
   "id": "e4fc49af",
   "metadata": {},
   "outputs": [
    {
     "data": {
      "text/plain": [
       "session_id                  object\n",
       "client_id                   object\n",
       "visit_date                  object\n",
       "visit_time                  object\n",
       "visit_number                 int64\n",
       "utm_source                  object\n",
       "utm_medium                  object\n",
       "utm_campaign                object\n",
       "utm_adcontent               object\n",
       "utm_keyword                 object\n",
       "device_category             object\n",
       "device_os                   object\n",
       "device_brand                object\n",
       "device_model                object\n",
       "device_screen_resolution    object\n",
       "device_browser              object\n",
       "geo_country                 object\n",
       "geo_city                    object\n",
       "dtype: object"
      ]
     },
     "execution_count": 10,
     "metadata": {},
     "output_type": "execute_result"
    }
   ],
   "source": [
    "sessions_df.dtypes"
   ]
  },
  {
   "cell_type": "markdown",
   "id": "e7c3f7a4",
   "metadata": {},
   "source": [
    "## События"
   ]
  },
  {
   "cell_type": "code",
   "execution_count": 12,
   "id": "a65dc0a3",
   "metadata": {},
   "outputs": [
    {
     "data": {
      "text/html": [
       "<div>\n",
       "<style scoped>\n",
       "    .dataframe tbody tr th:only-of-type {\n",
       "        vertical-align: middle;\n",
       "    }\n",
       "\n",
       "    .dataframe tbody tr th {\n",
       "        vertical-align: top;\n",
       "    }\n",
       "\n",
       "    .dataframe thead th {\n",
       "        text-align: right;\n",
       "    }\n",
       "</style>\n",
       "<table border=\"1\" class=\"dataframe\">\n",
       "  <thead>\n",
       "    <tr style=\"text-align: right;\">\n",
       "      <th></th>\n",
       "      <th>session_id</th>\n",
       "      <th>hit_date</th>\n",
       "      <th>hit_time</th>\n",
       "      <th>hit_number</th>\n",
       "      <th>hit_type</th>\n",
       "      <th>hit_referer</th>\n",
       "      <th>hit_page_path</th>\n",
       "      <th>event_category</th>\n",
       "      <th>event_action</th>\n",
       "      <th>event_label</th>\n",
       "      <th>event_value</th>\n",
       "    </tr>\n",
       "  </thead>\n",
       "  <tbody>\n",
       "    <tr>\n",
       "      <th>0</th>\n",
       "      <td>5639623078712724064.1640254056.1640254056</td>\n",
       "      <td>2021-12-23</td>\n",
       "      <td>597864.0</td>\n",
       "      <td>30</td>\n",
       "      <td>event</td>\n",
       "      <td>NaN</td>\n",
       "      <td>sberauto.com/cars?utm_source_initial=google&amp;ut...</td>\n",
       "      <td>quiz</td>\n",
       "      <td>quiz_show</td>\n",
       "      <td>NaN</td>\n",
       "      <td>NaN</td>\n",
       "    </tr>\n",
       "    <tr>\n",
       "      <th>1</th>\n",
       "      <td>7750352294969115059.1640271109.1640271109</td>\n",
       "      <td>2021-12-23</td>\n",
       "      <td>597331.0</td>\n",
       "      <td>41</td>\n",
       "      <td>event</td>\n",
       "      <td>NaN</td>\n",
       "      <td>sberauto.com/cars/fiat?city=1&amp;city=18&amp;rental_c...</td>\n",
       "      <td>quiz</td>\n",
       "      <td>quiz_show</td>\n",
       "      <td>NaN</td>\n",
       "      <td>NaN</td>\n",
       "    </tr>\n",
       "    <tr>\n",
       "      <th>2</th>\n",
       "      <td>885342191847998240.1640235807.1640235807</td>\n",
       "      <td>2021-12-23</td>\n",
       "      <td>796252.0</td>\n",
       "      <td>49</td>\n",
       "      <td>event</td>\n",
       "      <td>NaN</td>\n",
       "      <td>sberauto.com/cars/all/volkswagen/polo/e994838f...</td>\n",
       "      <td>quiz</td>\n",
       "      <td>quiz_show</td>\n",
       "      <td>NaN</td>\n",
       "      <td>NaN</td>\n",
       "    </tr>\n",
       "    <tr>\n",
       "      <th>3</th>\n",
       "      <td>142526202120934167.1640211014.1640211014</td>\n",
       "      <td>2021-12-23</td>\n",
       "      <td>934292.0</td>\n",
       "      <td>46</td>\n",
       "      <td>event</td>\n",
       "      <td>NaN</td>\n",
       "      <td>sberauto.com/cars?utm_source_initial=yandex&amp;ut...</td>\n",
       "      <td>quiz</td>\n",
       "      <td>quiz_show</td>\n",
       "      <td>NaN</td>\n",
       "      <td>NaN</td>\n",
       "    </tr>\n",
       "    <tr>\n",
       "      <th>4</th>\n",
       "      <td>3450086108837475701.1640265078.1640265078</td>\n",
       "      <td>2021-12-23</td>\n",
       "      <td>768741.0</td>\n",
       "      <td>79</td>\n",
       "      <td>event</td>\n",
       "      <td>NaN</td>\n",
       "      <td>sberauto.com/cars/all/mercedes-benz/cla-klasse...</td>\n",
       "      <td>quiz</td>\n",
       "      <td>quiz_show</td>\n",
       "      <td>NaN</td>\n",
       "      <td>NaN</td>\n",
       "    </tr>\n",
       "    <tr>\n",
       "      <th>...</th>\n",
       "      <td>...</td>\n",
       "      <td>...</td>\n",
       "      <td>...</td>\n",
       "      <td>...</td>\n",
       "      <td>...</td>\n",
       "      <td>...</td>\n",
       "      <td>...</td>\n",
       "      <td>...</td>\n",
       "      <td>...</td>\n",
       "      <td>...</td>\n",
       "      <td>...</td>\n",
       "    </tr>\n",
       "    <tr>\n",
       "      <th>15726465</th>\n",
       "      <td>6866159858916559617.1640270865.1640270865</td>\n",
       "      <td>2021-12-23</td>\n",
       "      <td>810589.0</td>\n",
       "      <td>43</td>\n",
       "      <td>event</td>\n",
       "      <td>NaN</td>\n",
       "      <td>sberauto.com/cars/all/toyota/fortuner/24cb5af2...</td>\n",
       "      <td>quiz</td>\n",
       "      <td>quiz_show</td>\n",
       "      <td>NaN</td>\n",
       "      <td>NaN</td>\n",
       "    </tr>\n",
       "    <tr>\n",
       "      <th>15726466</th>\n",
       "      <td>7310304587364460692.1640261783.1640261783</td>\n",
       "      <td>2021-12-23</td>\n",
       "      <td>904927.0</td>\n",
       "      <td>40</td>\n",
       "      <td>event</td>\n",
       "      <td>NaN</td>\n",
       "      <td>sberauto.com/cars/all/mercedes-benz/gla-klasse...</td>\n",
       "      <td>quiz</td>\n",
       "      <td>quiz_show</td>\n",
       "      <td>NaN</td>\n",
       "      <td>NaN</td>\n",
       "    </tr>\n",
       "    <tr>\n",
       "      <th>15726467</th>\n",
       "      <td>8013702685784312179.1640270195.1640270195</td>\n",
       "      <td>2021-12-23</td>\n",
       "      <td>2172865.0</td>\n",
       "      <td>43</td>\n",
       "      <td>event</td>\n",
       "      <td>NaN</td>\n",
       "      <td>sberauto.com/cars/all/toyota/alphard/2ebe4871?...</td>\n",
       "      <td>quiz</td>\n",
       "      <td>quiz_show</td>\n",
       "      <td>NaN</td>\n",
       "      <td>NaN</td>\n",
       "    </tr>\n",
       "    <tr>\n",
       "      <th>15726468</th>\n",
       "      <td>8021505554734405918.1640257821.1640257821</td>\n",
       "      <td>2021-12-23</td>\n",
       "      <td>713325.0</td>\n",
       "      <td>45</td>\n",
       "      <td>event</td>\n",
       "      <td>NaN</td>\n",
       "      <td>sberauto.com/cars/all/bmw/x3/6a660f0a?rental_p...</td>\n",
       "      <td>quiz</td>\n",
       "      <td>quiz_show</td>\n",
       "      <td>NaN</td>\n",
       "      <td>NaN</td>\n",
       "    </tr>\n",
       "    <tr>\n",
       "      <th>15726469</th>\n",
       "      <td>1569014437485249865.1640269129.1640269129</td>\n",
       "      <td>2021-12-23</td>\n",
       "      <td>742820.0</td>\n",
       "      <td>46</td>\n",
       "      <td>event</td>\n",
       "      <td>NaN</td>\n",
       "      <td>sberauto.com/cars/all/bmw/7-serii/399ac530?utm...</td>\n",
       "      <td>quiz</td>\n",
       "      <td>quiz_show</td>\n",
       "      <td>NaN</td>\n",
       "      <td>NaN</td>\n",
       "    </tr>\n",
       "  </tbody>\n",
       "</table>\n",
       "<p>15726470 rows × 11 columns</p>\n",
       "</div>"
      ],
      "text/plain": [
       "                                         session_id    hit_date   hit_time  \\\n",
       "0         5639623078712724064.1640254056.1640254056  2021-12-23   597864.0   \n",
       "1         7750352294969115059.1640271109.1640271109  2021-12-23   597331.0   \n",
       "2          885342191847998240.1640235807.1640235807  2021-12-23   796252.0   \n",
       "3          142526202120934167.1640211014.1640211014  2021-12-23   934292.0   \n",
       "4         3450086108837475701.1640265078.1640265078  2021-12-23   768741.0   \n",
       "...                                             ...         ...        ...   \n",
       "15726465  6866159858916559617.1640270865.1640270865  2021-12-23   810589.0   \n",
       "15726466  7310304587364460692.1640261783.1640261783  2021-12-23   904927.0   \n",
       "15726467  8013702685784312179.1640270195.1640270195  2021-12-23  2172865.0   \n",
       "15726468  8021505554734405918.1640257821.1640257821  2021-12-23   713325.0   \n",
       "15726469  1569014437485249865.1640269129.1640269129  2021-12-23   742820.0   \n",
       "\n",
       "          hit_number hit_type hit_referer  \\\n",
       "0                 30    event         NaN   \n",
       "1                 41    event         NaN   \n",
       "2                 49    event         NaN   \n",
       "3                 46    event         NaN   \n",
       "4                 79    event         NaN   \n",
       "...              ...      ...         ...   \n",
       "15726465          43    event         NaN   \n",
       "15726466          40    event         NaN   \n",
       "15726467          43    event         NaN   \n",
       "15726468          45    event         NaN   \n",
       "15726469          46    event         NaN   \n",
       "\n",
       "                                              hit_page_path event_category  \\\n",
       "0         sberauto.com/cars?utm_source_initial=google&ut...           quiz   \n",
       "1         sberauto.com/cars/fiat?city=1&city=18&rental_c...           quiz   \n",
       "2         sberauto.com/cars/all/volkswagen/polo/e994838f...           quiz   \n",
       "3         sberauto.com/cars?utm_source_initial=yandex&ut...           quiz   \n",
       "4         sberauto.com/cars/all/mercedes-benz/cla-klasse...           quiz   \n",
       "...                                                     ...            ...   \n",
       "15726465  sberauto.com/cars/all/toyota/fortuner/24cb5af2...           quiz   \n",
       "15726466  sberauto.com/cars/all/mercedes-benz/gla-klasse...           quiz   \n",
       "15726467  sberauto.com/cars/all/toyota/alphard/2ebe4871?...           quiz   \n",
       "15726468  sberauto.com/cars/all/bmw/x3/6a660f0a?rental_p...           quiz   \n",
       "15726469  sberauto.com/cars/all/bmw/7-serii/399ac530?utm...           quiz   \n",
       "\n",
       "         event_action event_label  event_value  \n",
       "0           quiz_show         NaN          NaN  \n",
       "1           quiz_show         NaN          NaN  \n",
       "2           quiz_show         NaN          NaN  \n",
       "3           quiz_show         NaN          NaN  \n",
       "4           quiz_show         NaN          NaN  \n",
       "...               ...         ...          ...  \n",
       "15726465    quiz_show         NaN          NaN  \n",
       "15726466    quiz_show         NaN          NaN  \n",
       "15726467    quiz_show         NaN          NaN  \n",
       "15726468    quiz_show         NaN          NaN  \n",
       "15726469    quiz_show         NaN          NaN  \n",
       "\n",
       "[15726470 rows x 11 columns]"
      ]
     },
     "execution_count": 12,
     "metadata": {},
     "output_type": "execute_result"
    }
   ],
   "source": [
    "# датафрейм событий\n",
    "# Одна строка = одно событие в рамках одного визита на сайтv\n",
    "hits_df = pd.read_csv('data/ga_hits.csv')\n",
    "hits_df"
   ]
  },
  {
   "cell_type": "code",
   "execution_count": 13,
   "id": "4cd2df14",
   "metadata": {},
   "outputs": [
    {
     "data": {
      "text/plain": [
       "(15726470, 11)"
      ]
     },
     "execution_count": 13,
     "metadata": {},
     "output_type": "execute_result"
    }
   ],
   "source": [
    "hits_df.shape"
   ]
  },
  {
   "cell_type": "code",
   "execution_count": 14,
   "id": "a156d4f3",
   "metadata": {},
   "outputs": [
    {
     "data": {
      "text/plain": [
       "Index(['session_id', 'hit_date', 'hit_time', 'hit_number', 'hit_type',\n",
       "       'hit_referer', 'hit_page_path', 'event_category', 'event_action',\n",
       "       'event_label', 'event_value'],\n",
       "      dtype='object')"
      ]
     },
     "execution_count": 14,
     "metadata": {},
     "output_type": "execute_result"
    }
   ],
   "source": [
    "hits_df.columns"
   ]
  },
  {
   "cell_type": "code",
   "execution_count": 15,
   "id": "f4740388",
   "metadata": {},
   "outputs": [
    {
     "data": {
      "text/html": [
       "<div>\n",
       "<style scoped>\n",
       "    .dataframe tbody tr th:only-of-type {\n",
       "        vertical-align: middle;\n",
       "    }\n",
       "\n",
       "    .dataframe tbody tr th {\n",
       "        vertical-align: top;\n",
       "    }\n",
       "\n",
       "    .dataframe thead th {\n",
       "        text-align: right;\n",
       "    }\n",
       "</style>\n",
       "<table border=\"1\" class=\"dataframe\">\n",
       "  <thead>\n",
       "    <tr style=\"text-align: right;\">\n",
       "      <th></th>\n",
       "      <th>session_id</th>\n",
       "      <th>hit_date</th>\n",
       "      <th>hit_time</th>\n",
       "      <th>hit_number</th>\n",
       "      <th>hit_type</th>\n",
       "      <th>hit_referer</th>\n",
       "      <th>hit_page_path</th>\n",
       "      <th>event_category</th>\n",
       "      <th>event_action</th>\n",
       "      <th>event_label</th>\n",
       "      <th>event_value</th>\n",
       "    </tr>\n",
       "  </thead>\n",
       "  <tbody>\n",
       "    <tr>\n",
       "      <th>count</th>\n",
       "      <td>15726470</td>\n",
       "      <td>15726470</td>\n",
       "      <td>6.566148e+06</td>\n",
       "      <td>1.572647e+07</td>\n",
       "      <td>15726470</td>\n",
       "      <td>9451666</td>\n",
       "      <td>15726470</td>\n",
       "      <td>15726470</td>\n",
       "      <td>15726470</td>\n",
       "      <td>11966286</td>\n",
       "      <td>0.0</td>\n",
       "    </tr>\n",
       "    <tr>\n",
       "      <th>unique</th>\n",
       "      <td>1734610</td>\n",
       "      <td>226</td>\n",
       "      <td>NaN</td>\n",
       "      <td>NaN</td>\n",
       "      <td>1</td>\n",
       "      <td>37873</td>\n",
       "      <td>342715</td>\n",
       "      <td>52</td>\n",
       "      <td>230</td>\n",
       "      <td>39825</td>\n",
       "      <td>NaN</td>\n",
       "    </tr>\n",
       "    <tr>\n",
       "      <th>top</th>\n",
       "      <td>5442565791571325612.1632449195.1632449195</td>\n",
       "      <td>2021-05-24</td>\n",
       "      <td>NaN</td>\n",
       "      <td>NaN</td>\n",
       "      <td>event</td>\n",
       "      <td>HbolMJUevblAbkHClEQa</td>\n",
       "      <td>podpiska.sberauto.com/</td>\n",
       "      <td>card_web</td>\n",
       "      <td>view_card</td>\n",
       "      <td>KclpemfoHstknWHFiLit</td>\n",
       "      <td>NaN</td>\n",
       "    </tr>\n",
       "    <tr>\n",
       "      <th>freq</th>\n",
       "      <td>768</td>\n",
       "      <td>513035</td>\n",
       "      <td>NaN</td>\n",
       "      <td>NaN</td>\n",
       "      <td>15726470</td>\n",
       "      <td>8879187</td>\n",
       "      <td>2793639</td>\n",
       "      <td>7456998</td>\n",
       "      <td>3558985</td>\n",
       "      <td>6505447</td>\n",
       "      <td>NaN</td>\n",
       "    </tr>\n",
       "    <tr>\n",
       "      <th>mean</th>\n",
       "      <td>NaN</td>\n",
       "      <td>NaN</td>\n",
       "      <td>2.091050e+05</td>\n",
       "      <td>2.356715e+01</td>\n",
       "      <td>NaN</td>\n",
       "      <td>NaN</td>\n",
       "      <td>NaN</td>\n",
       "      <td>NaN</td>\n",
       "      <td>NaN</td>\n",
       "      <td>NaN</td>\n",
       "      <td>NaN</td>\n",
       "    </tr>\n",
       "    <tr>\n",
       "      <th>std</th>\n",
       "      <td>NaN</td>\n",
       "      <td>NaN</td>\n",
       "      <td>4.032110e+05</td>\n",
       "      <td>2.887713e+01</td>\n",
       "      <td>NaN</td>\n",
       "      <td>NaN</td>\n",
       "      <td>NaN</td>\n",
       "      <td>NaN</td>\n",
       "      <td>NaN</td>\n",
       "      <td>NaN</td>\n",
       "      <td>NaN</td>\n",
       "    </tr>\n",
       "    <tr>\n",
       "      <th>min</th>\n",
       "      <td>NaN</td>\n",
       "      <td>NaN</td>\n",
       "      <td>0.000000e+00</td>\n",
       "      <td>1.000000e+00</td>\n",
       "      <td>NaN</td>\n",
       "      <td>NaN</td>\n",
       "      <td>NaN</td>\n",
       "      <td>NaN</td>\n",
       "      <td>NaN</td>\n",
       "      <td>NaN</td>\n",
       "      <td>NaN</td>\n",
       "    </tr>\n",
       "    <tr>\n",
       "      <th>25%</th>\n",
       "      <td>NaN</td>\n",
       "      <td>NaN</td>\n",
       "      <td>2.412000e+04</td>\n",
       "      <td>7.000000e+00</td>\n",
       "      <td>NaN</td>\n",
       "      <td>NaN</td>\n",
       "      <td>NaN</td>\n",
       "      <td>NaN</td>\n",
       "      <td>NaN</td>\n",
       "      <td>NaN</td>\n",
       "      <td>NaN</td>\n",
       "    </tr>\n",
       "    <tr>\n",
       "      <th>50%</th>\n",
       "      <td>NaN</td>\n",
       "      <td>NaN</td>\n",
       "      <td>8.994100e+04</td>\n",
       "      <td>1.500000e+01</td>\n",
       "      <td>NaN</td>\n",
       "      <td>NaN</td>\n",
       "      <td>NaN</td>\n",
       "      <td>NaN</td>\n",
       "      <td>NaN</td>\n",
       "      <td>NaN</td>\n",
       "      <td>NaN</td>\n",
       "    </tr>\n",
       "    <tr>\n",
       "      <th>75%</th>\n",
       "      <td>NaN</td>\n",
       "      <td>NaN</td>\n",
       "      <td>2.195352e+05</td>\n",
       "      <td>2.900000e+01</td>\n",
       "      <td>NaN</td>\n",
       "      <td>NaN</td>\n",
       "      <td>NaN</td>\n",
       "      <td>NaN</td>\n",
       "      <td>NaN</td>\n",
       "      <td>NaN</td>\n",
       "      <td>NaN</td>\n",
       "    </tr>\n",
       "    <tr>\n",
       "      <th>max</th>\n",
       "      <td>NaN</td>\n",
       "      <td>NaN</td>\n",
       "      <td>1.315688e+07</td>\n",
       "      <td>5.000000e+02</td>\n",
       "      <td>NaN</td>\n",
       "      <td>NaN</td>\n",
       "      <td>NaN</td>\n",
       "      <td>NaN</td>\n",
       "      <td>NaN</td>\n",
       "      <td>NaN</td>\n",
       "      <td>NaN</td>\n",
       "    </tr>\n",
       "  </tbody>\n",
       "</table>\n",
       "</div>"
      ],
      "text/plain": [
       "                                       session_id    hit_date      hit_time  \\\n",
       "count                                    15726470    15726470  6.566148e+06   \n",
       "unique                                    1734610         226           NaN   \n",
       "top     5442565791571325612.1632449195.1632449195  2021-05-24           NaN   \n",
       "freq                                          768      513035           NaN   \n",
       "mean                                          NaN         NaN  2.091050e+05   \n",
       "std                                           NaN         NaN  4.032110e+05   \n",
       "min                                           NaN         NaN  0.000000e+00   \n",
       "25%                                           NaN         NaN  2.412000e+04   \n",
       "50%                                           NaN         NaN  8.994100e+04   \n",
       "75%                                           NaN         NaN  2.195352e+05   \n",
       "max                                           NaN         NaN  1.315688e+07   \n",
       "\n",
       "          hit_number  hit_type           hit_referer           hit_page_path  \\\n",
       "count   1.572647e+07  15726470               9451666                15726470   \n",
       "unique           NaN         1                 37873                  342715   \n",
       "top              NaN     event  HbolMJUevblAbkHClEQa  podpiska.sberauto.com/   \n",
       "freq             NaN  15726470               8879187                 2793639   \n",
       "mean    2.356715e+01       NaN                   NaN                     NaN   \n",
       "std     2.887713e+01       NaN                   NaN                     NaN   \n",
       "min     1.000000e+00       NaN                   NaN                     NaN   \n",
       "25%     7.000000e+00       NaN                   NaN                     NaN   \n",
       "50%     1.500000e+01       NaN                   NaN                     NaN   \n",
       "75%     2.900000e+01       NaN                   NaN                     NaN   \n",
       "max     5.000000e+02       NaN                   NaN                     NaN   \n",
       "\n",
       "       event_category event_action           event_label  event_value  \n",
       "count        15726470     15726470              11966286          0.0  \n",
       "unique             52          230                 39825          NaN  \n",
       "top          card_web    view_card  KclpemfoHstknWHFiLit          NaN  \n",
       "freq          7456998      3558985               6505447          NaN  \n",
       "mean              NaN          NaN                   NaN          NaN  \n",
       "std               NaN          NaN                   NaN          NaN  \n",
       "min               NaN          NaN                   NaN          NaN  \n",
       "25%               NaN          NaN                   NaN          NaN  \n",
       "50%               NaN          NaN                   NaN          NaN  \n",
       "75%               NaN          NaN                   NaN          NaN  \n",
       "max               NaN          NaN                   NaN          NaN  "
      ]
     },
     "execution_count": 15,
     "metadata": {},
     "output_type": "execute_result"
    }
   ],
   "source": [
    "hits_df.describe(include='all')"
   ]
  },
  {
   "cell_type": "code",
   "execution_count": 16,
   "id": "4f4ef0e1",
   "metadata": {},
   "outputs": [
    {
     "data": {
      "text/plain": [
       "session_id         object\n",
       "hit_date           object\n",
       "hit_time          float64\n",
       "hit_number          int64\n",
       "hit_type           object\n",
       "hit_referer        object\n",
       "hit_page_path      object\n",
       "event_category     object\n",
       "event_action       object\n",
       "event_label        object\n",
       "event_value       float64\n",
       "dtype: object"
      ]
     },
     "execution_count": 16,
     "metadata": {},
     "output_type": "execute_result"
    }
   ],
   "source": [
    "hits_df.dtypes"
   ]
  },
  {
   "cell_type": "markdown",
   "id": "e3c4edb3",
   "metadata": {},
   "source": [
    " ## Объединяем данные"
   ]
  },
  {
   "cell_type": "code",
   "execution_count": 29,
   "id": "fd76e7b2",
   "metadata": {},
   "outputs": [
    {
     "data": {
      "text/html": [
       "<div>\n",
       "<style scoped>\n",
       "    .dataframe tbody tr th:only-of-type {\n",
       "        vertical-align: middle;\n",
       "    }\n",
       "\n",
       "    .dataframe tbody tr th {\n",
       "        vertical-align: top;\n",
       "    }\n",
       "\n",
       "    .dataframe thead th {\n",
       "        text-align: right;\n",
       "    }\n",
       "</style>\n",
       "<table border=\"1\" class=\"dataframe\">\n",
       "  <thead>\n",
       "    <tr style=\"text-align: right;\">\n",
       "      <th></th>\n",
       "      <th>session_id</th>\n",
       "      <th>client_id</th>\n",
       "      <th>visit_date</th>\n",
       "      <th>visit_time</th>\n",
       "      <th>visit_number</th>\n",
       "      <th>utm_source</th>\n",
       "      <th>utm_medium</th>\n",
       "      <th>utm_campaign</th>\n",
       "      <th>utm_adcontent</th>\n",
       "      <th>utm_keyword</th>\n",
       "      <th>device_category</th>\n",
       "      <th>device_os</th>\n",
       "      <th>device_brand</th>\n",
       "      <th>device_model</th>\n",
       "      <th>device_screen_resolution</th>\n",
       "      <th>device_browser</th>\n",
       "      <th>geo_country</th>\n",
       "      <th>geo_city</th>\n",
       "      <th>hit_date</th>\n",
       "      <th>hit_time</th>\n",
       "      <th>hit_number</th>\n",
       "      <th>hit_type</th>\n",
       "      <th>hit_referer</th>\n",
       "      <th>hit_page_path</th>\n",
       "      <th>event_category</th>\n",
       "      <th>event_action</th>\n",
       "      <th>event_label</th>\n",
       "      <th>event_value</th>\n",
       "    </tr>\n",
       "  </thead>\n",
       "  <tbody>\n",
       "    <tr>\n",
       "      <th>0</th>\n",
       "      <td>9055434745589932991.1637753792.1637753792</td>\n",
       "      <td>2108382700.163776</td>\n",
       "      <td>2021-11-24</td>\n",
       "      <td>14:36:32</td>\n",
       "      <td>1</td>\n",
       "      <td>ZpYIoDJMcFzVoPFsHGJL</td>\n",
       "      <td>banner</td>\n",
       "      <td>LEoPHuyFvzoNfnzGgfcd</td>\n",
       "      <td>vCIpmpaGBnIQhyYNkXqp</td>\n",
       "      <td>puhZPIYqKXeFPaUviSjo</td>\n",
       "      <td>mobile</td>\n",
       "      <td>Android</td>\n",
       "      <td>Huawei</td>\n",
       "      <td>NaN</td>\n",
       "      <td>360x720</td>\n",
       "      <td>Chrome</td>\n",
       "      <td>Russia</td>\n",
       "      <td>Zlatoust</td>\n",
       "      <td>2021-11-24</td>\n",
       "      <td>3665.0</td>\n",
       "      <td>3</td>\n",
       "      <td>event</td>\n",
       "      <td>NaN</td>\n",
       "      <td>podpiska.sberauto.com/</td>\n",
       "      <td>sub_page_view</td>\n",
       "      <td>sub_landing</td>\n",
       "      <td>NaN</td>\n",
       "      <td>NaN</td>\n",
       "    </tr>\n",
       "    <tr>\n",
       "      <th>1</th>\n",
       "      <td>9055434745589932991.1637753792.1637753792</td>\n",
       "      <td>2108382700.163776</td>\n",
       "      <td>2021-11-24</td>\n",
       "      <td>14:36:32</td>\n",
       "      <td>1</td>\n",
       "      <td>ZpYIoDJMcFzVoPFsHGJL</td>\n",
       "      <td>banner</td>\n",
       "      <td>LEoPHuyFvzoNfnzGgfcd</td>\n",
       "      <td>vCIpmpaGBnIQhyYNkXqp</td>\n",
       "      <td>puhZPIYqKXeFPaUviSjo</td>\n",
       "      <td>mobile</td>\n",
       "      <td>Android</td>\n",
       "      <td>Huawei</td>\n",
       "      <td>NaN</td>\n",
       "      <td>360x720</td>\n",
       "      <td>Chrome</td>\n",
       "      <td>Russia</td>\n",
       "      <td>Zlatoust</td>\n",
       "      <td>2021-11-24</td>\n",
       "      <td>46592.0</td>\n",
       "      <td>4</td>\n",
       "      <td>event</td>\n",
       "      <td>NaN</td>\n",
       "      <td>podpiska.sberauto.com/</td>\n",
       "      <td>sub_button_click</td>\n",
       "      <td>sub_view_cars_click</td>\n",
       "      <td>vodKSlUobUWTVlgsJqdI</td>\n",
       "      <td>NaN</td>\n",
       "    </tr>\n",
       "    <tr>\n",
       "      <th>2</th>\n",
       "      <td>905544597018549464.1636867290.1636867290</td>\n",
       "      <td>210838531.163687</td>\n",
       "      <td>2021-11-14</td>\n",
       "      <td>08:21:30</td>\n",
       "      <td>1</td>\n",
       "      <td>MvfHsxITijuriZxsqZqt</td>\n",
       "      <td>cpm</td>\n",
       "      <td>FTjNLDyTrXaWYgZymFkV</td>\n",
       "      <td>xhoenQgDQsgfEPYNPwKO</td>\n",
       "      <td>IGUCNvHlhfHpROGclCit</td>\n",
       "      <td>mobile</td>\n",
       "      <td>Android</td>\n",
       "      <td>Samsung</td>\n",
       "      <td>NaN</td>\n",
       "      <td>385x854</td>\n",
       "      <td>Samsung Internet</td>\n",
       "      <td>Russia</td>\n",
       "      <td>Moscow</td>\n",
       "      <td>2021-11-14</td>\n",
       "      <td>921.0</td>\n",
       "      <td>3</td>\n",
       "      <td>event</td>\n",
       "      <td>NaN</td>\n",
       "      <td>podpiska.sberauto.com/</td>\n",
       "      <td>sub_page_view</td>\n",
       "      <td>sub_landing</td>\n",
       "      <td>NaN</td>\n",
       "      <td>NaN</td>\n",
       "    </tr>\n",
       "    <tr>\n",
       "      <th>3</th>\n",
       "      <td>9055446045651783499.1640648526.1640648526</td>\n",
       "      <td>2108385331.164065</td>\n",
       "      <td>2021-12-28</td>\n",
       "      <td>02:42:06</td>\n",
       "      <td>1</td>\n",
       "      <td>ZpYIoDJMcFzVoPFsHGJL</td>\n",
       "      <td>banner</td>\n",
       "      <td>LEoPHuyFvzoNfnzGgfcd</td>\n",
       "      <td>vCIpmpaGBnIQhyYNkXqp</td>\n",
       "      <td>puhZPIYqKXeFPaUviSjo</td>\n",
       "      <td>mobile</td>\n",
       "      <td>Android</td>\n",
       "      <td>Huawei</td>\n",
       "      <td>NaN</td>\n",
       "      <td>360x720</td>\n",
       "      <td>Chrome</td>\n",
       "      <td>Russia</td>\n",
       "      <td>Krasnoyarsk</td>\n",
       "      <td>2021-12-28</td>\n",
       "      <td>84155.0</td>\n",
       "      <td>10</td>\n",
       "      <td>event</td>\n",
       "      <td>NaN</td>\n",
       "      <td>sberauto.com/cars?utm_source_initial=sbol&amp;utm_...</td>\n",
       "      <td>search_form</td>\n",
       "      <td>search_form_region</td>\n",
       "      <td>KWTCzSIXzoqUWjfUQMgP</td>\n",
       "      <td>NaN</td>\n",
       "    </tr>\n",
       "    <tr>\n",
       "      <th>4</th>\n",
       "      <td>9055446045651783499.1640648526.1640648526</td>\n",
       "      <td>2108385331.164065</td>\n",
       "      <td>2021-12-28</td>\n",
       "      <td>02:42:06</td>\n",
       "      <td>1</td>\n",
       "      <td>ZpYIoDJMcFzVoPFsHGJL</td>\n",
       "      <td>banner</td>\n",
       "      <td>LEoPHuyFvzoNfnzGgfcd</td>\n",
       "      <td>vCIpmpaGBnIQhyYNkXqp</td>\n",
       "      <td>puhZPIYqKXeFPaUviSjo</td>\n",
       "      <td>mobile</td>\n",
       "      <td>Android</td>\n",
       "      <td>Huawei</td>\n",
       "      <td>NaN</td>\n",
       "      <td>360x720</td>\n",
       "      <td>Chrome</td>\n",
       "      <td>Russia</td>\n",
       "      <td>Krasnoyarsk</td>\n",
       "      <td>2021-12-28</td>\n",
       "      <td>102979.0</td>\n",
       "      <td>13</td>\n",
       "      <td>event</td>\n",
       "      <td>NaN</td>\n",
       "      <td>sberauto.com/cars?utm_source_initial=sbol&amp;utm_...</td>\n",
       "      <td>search_form</td>\n",
       "      <td>search_form_region</td>\n",
       "      <td>CBqnBQaKoQUyWJhLcxxN</td>\n",
       "      <td>NaN</td>\n",
       "    </tr>\n",
       "    <tr>\n",
       "      <th>...</th>\n",
       "      <td>...</td>\n",
       "      <td>...</td>\n",
       "      <td>...</td>\n",
       "      <td>...</td>\n",
       "      <td>...</td>\n",
       "      <td>...</td>\n",
       "      <td>...</td>\n",
       "      <td>...</td>\n",
       "      <td>...</td>\n",
       "      <td>...</td>\n",
       "      <td>...</td>\n",
       "      <td>...</td>\n",
       "      <td>...</td>\n",
       "      <td>...</td>\n",
       "      <td>...</td>\n",
       "      <td>...</td>\n",
       "      <td>...</td>\n",
       "      <td>...</td>\n",
       "      <td>...</td>\n",
       "      <td>...</td>\n",
       "      <td>...</td>\n",
       "      <td>...</td>\n",
       "      <td>...</td>\n",
       "      <td>...</td>\n",
       "      <td>...</td>\n",
       "      <td>...</td>\n",
       "      <td>...</td>\n",
       "      <td>...</td>\n",
       "    </tr>\n",
       "    <tr>\n",
       "      <th>15685214</th>\n",
       "      <td>9055430416266113553.1640968742.1640968742</td>\n",
       "      <td>2108381692.164097</td>\n",
       "      <td>2021-12-31</td>\n",
       "      <td>19:39:02</td>\n",
       "      <td>1</td>\n",
       "      <td>fgymSoTvjKPEgaIJqsiH</td>\n",
       "      <td>cpm</td>\n",
       "      <td>FTjNLDyTrXaWYgZymFkV</td>\n",
       "      <td>yYdBRbPmBMUZHXwqGxNx</td>\n",
       "      <td>oKjXDUsycmahkgMhGdAR</td>\n",
       "      <td>desktop</td>\n",
       "      <td>Linux</td>\n",
       "      <td>NaN</td>\n",
       "      <td>NaN</td>\n",
       "      <td>1366x768</td>\n",
       "      <td>Chrome</td>\n",
       "      <td>Russia</td>\n",
       "      <td>Moscow</td>\n",
       "      <td>2021-12-31</td>\n",
       "      <td>33010.0</td>\n",
       "      <td>11</td>\n",
       "      <td>event</td>\n",
       "      <td>NaN</td>\n",
       "      <td>sberauto.com/cars/all/bmw/3-serii/bde2c9d5?utm...</td>\n",
       "      <td>card_web</td>\n",
       "      <td>view_card</td>\n",
       "      <td>NaN</td>\n",
       "      <td>NaN</td>\n",
       "    </tr>\n",
       "    <tr>\n",
       "      <th>15685215</th>\n",
       "      <td>9055430416266113553.1640968742.1640968742</td>\n",
       "      <td>2108381692.164097</td>\n",
       "      <td>2021-12-31</td>\n",
       "      <td>19:39:02</td>\n",
       "      <td>1</td>\n",
       "      <td>fgymSoTvjKPEgaIJqsiH</td>\n",
       "      <td>cpm</td>\n",
       "      <td>FTjNLDyTrXaWYgZymFkV</td>\n",
       "      <td>yYdBRbPmBMUZHXwqGxNx</td>\n",
       "      <td>oKjXDUsycmahkgMhGdAR</td>\n",
       "      <td>desktop</td>\n",
       "      <td>Linux</td>\n",
       "      <td>NaN</td>\n",
       "      <td>NaN</td>\n",
       "      <td>1366x768</td>\n",
       "      <td>Chrome</td>\n",
       "      <td>Russia</td>\n",
       "      <td>Moscow</td>\n",
       "      <td>2021-12-31</td>\n",
       "      <td>34694.0</td>\n",
       "      <td>16</td>\n",
       "      <td>event</td>\n",
       "      <td>NaN</td>\n",
       "      <td>sberauto.com/cars/all/bmw/3-serii/bde2c9d5?utm...</td>\n",
       "      <td>card_web</td>\n",
       "      <td>view_new_card</td>\n",
       "      <td>NaN</td>\n",
       "      <td>NaN</td>\n",
       "    </tr>\n",
       "    <tr>\n",
       "      <th>15685216</th>\n",
       "      <td>9055430416266113553.1640968742.1640968742</td>\n",
       "      <td>2108381692.164097</td>\n",
       "      <td>2021-12-31</td>\n",
       "      <td>19:39:02</td>\n",
       "      <td>1</td>\n",
       "      <td>fgymSoTvjKPEgaIJqsiH</td>\n",
       "      <td>cpm</td>\n",
       "      <td>FTjNLDyTrXaWYgZymFkV</td>\n",
       "      <td>yYdBRbPmBMUZHXwqGxNx</td>\n",
       "      <td>oKjXDUsycmahkgMhGdAR</td>\n",
       "      <td>desktop</td>\n",
       "      <td>Linux</td>\n",
       "      <td>NaN</td>\n",
       "      <td>NaN</td>\n",
       "      <td>1366x768</td>\n",
       "      <td>Chrome</td>\n",
       "      <td>Russia</td>\n",
       "      <td>Moscow</td>\n",
       "      <td>2021-12-31</td>\n",
       "      <td>250.0</td>\n",
       "      <td>3</td>\n",
       "      <td>event</td>\n",
       "      <td>NaN</td>\n",
       "      <td>sberauto.com/cars/all/mercedes-benz/e-klasse/d...</td>\n",
       "      <td>card_web</td>\n",
       "      <td>view_card</td>\n",
       "      <td>NaN</td>\n",
       "      <td>NaN</td>\n",
       "    </tr>\n",
       "    <tr>\n",
       "      <th>15685217</th>\n",
       "      <td>9055430416266113553.1640968742.1640968742</td>\n",
       "      <td>2108381692.164097</td>\n",
       "      <td>2021-12-31</td>\n",
       "      <td>19:39:02</td>\n",
       "      <td>1</td>\n",
       "      <td>fgymSoTvjKPEgaIJqsiH</td>\n",
       "      <td>cpm</td>\n",
       "      <td>FTjNLDyTrXaWYgZymFkV</td>\n",
       "      <td>yYdBRbPmBMUZHXwqGxNx</td>\n",
       "      <td>oKjXDUsycmahkgMhGdAR</td>\n",
       "      <td>desktop</td>\n",
       "      <td>Linux</td>\n",
       "      <td>NaN</td>\n",
       "      <td>NaN</td>\n",
       "      <td>1366x768</td>\n",
       "      <td>Chrome</td>\n",
       "      <td>Russia</td>\n",
       "      <td>Moscow</td>\n",
       "      <td>2021-12-31</td>\n",
       "      <td>33533.0</td>\n",
       "      <td>14</td>\n",
       "      <td>event</td>\n",
       "      <td>NaN</td>\n",
       "      <td>sberauto.com/cars/all/bmw/3-serii/bde2c9d5?utm...</td>\n",
       "      <td>card_web</td>\n",
       "      <td>view_card</td>\n",
       "      <td>NaN</td>\n",
       "      <td>NaN</td>\n",
       "    </tr>\n",
       "    <tr>\n",
       "      <th>15685218</th>\n",
       "      <td>9055430416266113553.1640968742.1640968742</td>\n",
       "      <td>2108381692.164097</td>\n",
       "      <td>2021-12-31</td>\n",
       "      <td>19:39:02</td>\n",
       "      <td>1</td>\n",
       "      <td>fgymSoTvjKPEgaIJqsiH</td>\n",
       "      <td>cpm</td>\n",
       "      <td>FTjNLDyTrXaWYgZymFkV</td>\n",
       "      <td>yYdBRbPmBMUZHXwqGxNx</td>\n",
       "      <td>oKjXDUsycmahkgMhGdAR</td>\n",
       "      <td>desktop</td>\n",
       "      <td>Linux</td>\n",
       "      <td>NaN</td>\n",
       "      <td>NaN</td>\n",
       "      <td>1366x768</td>\n",
       "      <td>Chrome</td>\n",
       "      <td>Russia</td>\n",
       "      <td>Moscow</td>\n",
       "      <td>2021-12-31</td>\n",
       "      <td>34694.0</td>\n",
       "      <td>17</td>\n",
       "      <td>event</td>\n",
       "      <td>NaN</td>\n",
       "      <td>sberauto.com/cars/all/bmw/3-serii/bde2c9d5?utm...</td>\n",
       "      <td>card_web</td>\n",
       "      <td>view_card</td>\n",
       "      <td>NaN</td>\n",
       "      <td>NaN</td>\n",
       "    </tr>\n",
       "  </tbody>\n",
       "</table>\n",
       "<p>15685219 rows × 28 columns</p>\n",
       "</div>"
      ],
      "text/plain": [
       "                                         session_id          client_id  \\\n",
       "0         9055434745589932991.1637753792.1637753792  2108382700.163776   \n",
       "1         9055434745589932991.1637753792.1637753792  2108382700.163776   \n",
       "2          905544597018549464.1636867290.1636867290   210838531.163687   \n",
       "3         9055446045651783499.1640648526.1640648526  2108385331.164065   \n",
       "4         9055446045651783499.1640648526.1640648526  2108385331.164065   \n",
       "...                                             ...                ...   \n",
       "15685214  9055430416266113553.1640968742.1640968742  2108381692.164097   \n",
       "15685215  9055430416266113553.1640968742.1640968742  2108381692.164097   \n",
       "15685216  9055430416266113553.1640968742.1640968742  2108381692.164097   \n",
       "15685217  9055430416266113553.1640968742.1640968742  2108381692.164097   \n",
       "15685218  9055430416266113553.1640968742.1640968742  2108381692.164097   \n",
       "\n",
       "          visit_date visit_time  visit_number            utm_source  \\\n",
       "0         2021-11-24   14:36:32             1  ZpYIoDJMcFzVoPFsHGJL   \n",
       "1         2021-11-24   14:36:32             1  ZpYIoDJMcFzVoPFsHGJL   \n",
       "2         2021-11-14   08:21:30             1  MvfHsxITijuriZxsqZqt   \n",
       "3         2021-12-28   02:42:06             1  ZpYIoDJMcFzVoPFsHGJL   \n",
       "4         2021-12-28   02:42:06             1  ZpYIoDJMcFzVoPFsHGJL   \n",
       "...              ...        ...           ...                   ...   \n",
       "15685214  2021-12-31   19:39:02             1  fgymSoTvjKPEgaIJqsiH   \n",
       "15685215  2021-12-31   19:39:02             1  fgymSoTvjKPEgaIJqsiH   \n",
       "15685216  2021-12-31   19:39:02             1  fgymSoTvjKPEgaIJqsiH   \n",
       "15685217  2021-12-31   19:39:02             1  fgymSoTvjKPEgaIJqsiH   \n",
       "15685218  2021-12-31   19:39:02             1  fgymSoTvjKPEgaIJqsiH   \n",
       "\n",
       "         utm_medium          utm_campaign         utm_adcontent  \\\n",
       "0            banner  LEoPHuyFvzoNfnzGgfcd  vCIpmpaGBnIQhyYNkXqp   \n",
       "1            banner  LEoPHuyFvzoNfnzGgfcd  vCIpmpaGBnIQhyYNkXqp   \n",
       "2               cpm  FTjNLDyTrXaWYgZymFkV  xhoenQgDQsgfEPYNPwKO   \n",
       "3            banner  LEoPHuyFvzoNfnzGgfcd  vCIpmpaGBnIQhyYNkXqp   \n",
       "4            banner  LEoPHuyFvzoNfnzGgfcd  vCIpmpaGBnIQhyYNkXqp   \n",
       "...             ...                   ...                   ...   \n",
       "15685214        cpm  FTjNLDyTrXaWYgZymFkV  yYdBRbPmBMUZHXwqGxNx   \n",
       "15685215        cpm  FTjNLDyTrXaWYgZymFkV  yYdBRbPmBMUZHXwqGxNx   \n",
       "15685216        cpm  FTjNLDyTrXaWYgZymFkV  yYdBRbPmBMUZHXwqGxNx   \n",
       "15685217        cpm  FTjNLDyTrXaWYgZymFkV  yYdBRbPmBMUZHXwqGxNx   \n",
       "15685218        cpm  FTjNLDyTrXaWYgZymFkV  yYdBRbPmBMUZHXwqGxNx   \n",
       "\n",
       "                   utm_keyword device_category device_os device_brand  \\\n",
       "0         puhZPIYqKXeFPaUviSjo          mobile   Android       Huawei   \n",
       "1         puhZPIYqKXeFPaUviSjo          mobile   Android       Huawei   \n",
       "2         IGUCNvHlhfHpROGclCit          mobile   Android      Samsung   \n",
       "3         puhZPIYqKXeFPaUviSjo          mobile   Android       Huawei   \n",
       "4         puhZPIYqKXeFPaUviSjo          mobile   Android       Huawei   \n",
       "...                        ...             ...       ...          ...   \n",
       "15685214  oKjXDUsycmahkgMhGdAR         desktop     Linux          NaN   \n",
       "15685215  oKjXDUsycmahkgMhGdAR         desktop     Linux          NaN   \n",
       "15685216  oKjXDUsycmahkgMhGdAR         desktop     Linux          NaN   \n",
       "15685217  oKjXDUsycmahkgMhGdAR         desktop     Linux          NaN   \n",
       "15685218  oKjXDUsycmahkgMhGdAR         desktop     Linux          NaN   \n",
       "\n",
       "         device_model device_screen_resolution    device_browser geo_country  \\\n",
       "0                 NaN                  360x720            Chrome      Russia   \n",
       "1                 NaN                  360x720            Chrome      Russia   \n",
       "2                 NaN                  385x854  Samsung Internet      Russia   \n",
       "3                 NaN                  360x720            Chrome      Russia   \n",
       "4                 NaN                  360x720            Chrome      Russia   \n",
       "...               ...                      ...               ...         ...   \n",
       "15685214          NaN                 1366x768            Chrome      Russia   \n",
       "15685215          NaN                 1366x768            Chrome      Russia   \n",
       "15685216          NaN                 1366x768            Chrome      Russia   \n",
       "15685217          NaN                 1366x768            Chrome      Russia   \n",
       "15685218          NaN                 1366x768            Chrome      Russia   \n",
       "\n",
       "             geo_city    hit_date  hit_time  hit_number hit_type hit_referer  \\\n",
       "0            Zlatoust  2021-11-24    3665.0           3    event         NaN   \n",
       "1            Zlatoust  2021-11-24   46592.0           4    event         NaN   \n",
       "2              Moscow  2021-11-14     921.0           3    event         NaN   \n",
       "3         Krasnoyarsk  2021-12-28   84155.0          10    event         NaN   \n",
       "4         Krasnoyarsk  2021-12-28  102979.0          13    event         NaN   \n",
       "...               ...         ...       ...         ...      ...         ...   \n",
       "15685214       Moscow  2021-12-31   33010.0          11    event         NaN   \n",
       "15685215       Moscow  2021-12-31   34694.0          16    event         NaN   \n",
       "15685216       Moscow  2021-12-31     250.0           3    event         NaN   \n",
       "15685217       Moscow  2021-12-31   33533.0          14    event         NaN   \n",
       "15685218       Moscow  2021-12-31   34694.0          17    event         NaN   \n",
       "\n",
       "                                              hit_page_path    event_category  \\\n",
       "0                                    podpiska.sberauto.com/     sub_page_view   \n",
       "1                                    podpiska.sberauto.com/  sub_button_click   \n",
       "2                                    podpiska.sberauto.com/     sub_page_view   \n",
       "3         sberauto.com/cars?utm_source_initial=sbol&utm_...       search_form   \n",
       "4         sberauto.com/cars?utm_source_initial=sbol&utm_...       search_form   \n",
       "...                                                     ...               ...   \n",
       "15685214  sberauto.com/cars/all/bmw/3-serii/bde2c9d5?utm...          card_web   \n",
       "15685215  sberauto.com/cars/all/bmw/3-serii/bde2c9d5?utm...          card_web   \n",
       "15685216  sberauto.com/cars/all/mercedes-benz/e-klasse/d...          card_web   \n",
       "15685217  sberauto.com/cars/all/bmw/3-serii/bde2c9d5?utm...          card_web   \n",
       "15685218  sberauto.com/cars/all/bmw/3-serii/bde2c9d5?utm...          card_web   \n",
       "\n",
       "                 event_action           event_label  event_value  \n",
       "0                 sub_landing                   NaN          NaN  \n",
       "1         sub_view_cars_click  vodKSlUobUWTVlgsJqdI          NaN  \n",
       "2                 sub_landing                   NaN          NaN  \n",
       "3          search_form_region  KWTCzSIXzoqUWjfUQMgP          NaN  \n",
       "4          search_form_region  CBqnBQaKoQUyWJhLcxxN          NaN  \n",
       "...                       ...                   ...          ...  \n",
       "15685214            view_card                   NaN          NaN  \n",
       "15685215        view_new_card                   NaN          NaN  \n",
       "15685216            view_card                   NaN          NaN  \n",
       "15685217            view_card                   NaN          NaN  \n",
       "15685218            view_card                   NaN          NaN  \n",
       "\n",
       "[15685219 rows x 28 columns]"
      ]
     },
     "execution_count": 29,
     "metadata": {},
     "output_type": "execute_result"
    }
   ],
   "source": [
    "merged_df = sessions_df.merge(hits_df, how='inner', on='session_id')\n",
    "merged_df"
   ]
  },
  {
   "cell_type": "markdown",
   "id": "e707e94f",
   "metadata": {},
   "source": [
    "## Очистка данных"
   ]
  },
  {
   "cell_type": "code",
   "execution_count": 26,
   "id": "0729f773",
   "metadata": {},
   "outputs": [
    {
     "name": "stdout",
     "output_type": "stream",
     "text": [
      "<class 'pandas.core.frame.DataFrame'>\n",
      "Int64Index: 15685219 entries, 0 to 15685218\n",
      "Data columns (total 28 columns):\n",
      " #   Column                    Dtype  \n",
      "---  ------                    -----  \n",
      " 0   session_id                object \n",
      " 1   client_id                 object \n",
      " 2   visit_date                object \n",
      " 3   visit_time                object \n",
      " 4   visit_number              int64  \n",
      " 5   utm_source                object \n",
      " 6   utm_medium                object \n",
      " 7   utm_campaign              object \n",
      " 8   utm_adcontent             object \n",
      " 9   utm_keyword               object \n",
      " 10  device_category           object \n",
      " 11  device_os                 object \n",
      " 12  device_brand              object \n",
      " 13  device_model              object \n",
      " 14  device_screen_resolution  object \n",
      " 15  device_browser            object \n",
      " 16  geo_country               object \n",
      " 17  geo_city                  object \n",
      " 18  hit_date                  object \n",
      " 19  hit_time                  float64\n",
      " 20  hit_number                int64  \n",
      " 21  hit_type                  object \n",
      " 22  hit_referer               object \n",
      " 23  hit_page_path             object \n",
      " 24  event_category            object \n",
      " 25  event_action              object \n",
      " 26  event_label               object \n",
      " 27  event_value               float64\n",
      "dtypes: float64(2), int64(2), object(24)\n",
      "memory usage: 3.4+ GB\n"
     ]
    }
   ],
   "source": [
    "merged_df.info()"
   ]
  },
  {
   "cell_type": "code",
   "execution_count": 51,
   "id": "78dcb1a6",
   "metadata": {},
   "outputs": [
    {
     "data": {
      "text/plain": [
       "utm_source        0.004463\n",
       "utm_campaign     14.018759\n",
       "utm_adcontent    18.057880\n",
       "event_label      23.765572\n",
       "device_brand     25.156646\n",
       "hit_referer      39.753975\n",
       "device_os        58.388614\n",
       "hit_time         58.400224\n",
       "utm_keyword      58.684721\n",
       "dtype: float64"
      ]
     },
     "execution_count": 51,
     "metadata": {},
     "output_type": "execute_result"
    }
   ],
   "source": [
    "skipped_values_in_percents = ((merged_df.isna().sum() / len(merged_df)) * 100).sort_values()\n",
    "skipped_values_in_percents[skipped_values_in_percents > 0.0]"
   ]
  },
  {
   "cell_type": "code",
   "execution_count": 33,
   "id": "b77655d3",
   "metadata": {},
   "outputs": [
    {
     "name": "stdout",
     "output_type": "stream",
     "text": [
      "<class 'pandas.core.frame.DataFrame'>\n",
      "Int64Index: 15685219 entries, 0 to 15685218\n",
      "Data columns (total 26 columns):\n",
      " #   Column                    Dtype  \n",
      "---  ------                    -----  \n",
      " 0   session_id                object \n",
      " 1   client_id                 object \n",
      " 2   visit_date                object \n",
      " 3   visit_time                object \n",
      " 4   visit_number              int64  \n",
      " 5   utm_source                object \n",
      " 6   utm_medium                object \n",
      " 7   utm_campaign              object \n",
      " 8   utm_adcontent             object \n",
      " 9   utm_keyword               object \n",
      " 10  device_category           object \n",
      " 11  device_os                 object \n",
      " 12  device_brand              object \n",
      " 13  device_screen_resolution  object \n",
      " 14  device_browser            object \n",
      " 15  geo_country               object \n",
      " 16  geo_city                  object \n",
      " 17  hit_date                  object \n",
      " 18  hit_time                  float64\n",
      " 19  hit_number                int64  \n",
      " 20  hit_type                  object \n",
      " 21  hit_referer               object \n",
      " 22  hit_page_path             object \n",
      " 23  event_category            object \n",
      " 24  event_action              object \n",
      " 25  event_label               object \n",
      "dtypes: float64(1), int64(2), object(23)\n",
      "memory usage: 3.2+ GB\n"
     ]
    }
   ],
   "source": [
    "merged_df=merged_df.drop(['event_value', 'device_model','utm_keyword'], axis=1)\n",
    "merged_df.info()"
   ]
  },
  {
   "cell_type": "code",
   "execution_count": 35,
   "id": "76c88d38",
   "metadata": {},
   "outputs": [
    {
     "data": {
      "text/plain": [
       "puhZPIYqKXeFPaUviSjo    4717082\n",
       "aXQzDWsJuGXeBXexNHjc     176453\n",
       "ITfrGJNwVsHBGJMAKoct     138328\n",
       "UKNBOHebRIIsQRsjNKay     132629\n",
       "hAmNSZmQkKQKAjZEGlgb      95962\n",
       "                         ...   \n",
       "pbDudNzVMOgnBNGCXLTy          1\n",
       "aPqwsNrUDOqqlOPbgStP          1\n",
       "AWuRIdQALexokAiMRaos          1\n",
       "MXqmDyetMTICSSitTjWV          1\n",
       "fcXWTQaKfxbkBkBnzLhK          1\n",
       "Name: utm_keyword, Length: 1192, dtype: int64"
      ]
     },
     "execution_count": 35,
     "metadata": {},
     "output_type": "execute_result"
    }
   ],
   "source": [
    "merged_df['utm_keyword'].value_counts()"
   ]
  },
  {
   "cell_type": "code",
   "execution_count": 44,
   "id": "7954328c",
   "metadata": {},
   "outputs": [
    {
     "data": {
      "text/plain": [
       "'column ----------------------- session_id'"
      ]
     },
     "metadata": {},
     "output_type": "display_data"
    },
    {
     "data": {
      "text/plain": [
       "'unique num: 1732266'"
      ]
     },
     "metadata": {},
     "output_type": "display_data"
    },
    {
     "data": {
      "text/plain": [
       "5442565791571325612.1632449195.1632449195    768\n",
       "6568868914238486437.1632270313.1632270313    678\n",
       "5959671972744778783.1632490527.1632490600    548\n",
       "7452598043578978502.1632358598.1632358598    514\n",
       "3070792010704358528.1629752408.1629752408    498\n",
       "                                            ... \n",
       "7013704239071215699.1635631187.1635631187      1\n",
       "7013727461964093035.1640339052.1640339052      1\n",
       "3910664331348184547.1640795619.1640795619      1\n",
       "7013737473524713191.1632192232.1632192232      1\n",
       "4908893298772738727.1638898108.1638898108      1\n",
       "Name: session_id, Length: 1732266, dtype: int64"
      ]
     },
     "metadata": {},
     "output_type": "display_data"
    },
    {
     "data": {
      "text/plain": [
       "'column ----------------------- client_id'"
      ]
     },
     "metadata": {},
     "output_type": "display_data"
    },
    {
     "data": {
      "text/plain": [
       "'unique num: 1320702'"
      ]
     },
     "metadata": {},
     "output_type": "display_data"
    },
    {
     "data": {
      "text/plain": [
       "1.750498e+09    6871\n",
       "7.368596e+08    5872\n",
       "1.485840e+09    3641\n",
       "1.216285e+09    3393\n",
       "1.063501e+08    2753\n",
       "                ... \n",
       "9.523673e+08       1\n",
       "9.523733e+08       1\n",
       "9.523746e+08       1\n",
       "1.676093e+09       1\n",
       "1.142711e+09       1\n",
       "Name: client_id, Length: 1320702, dtype: int64"
      ]
     },
     "metadata": {},
     "output_type": "display_data"
    },
    {
     "data": {
      "text/plain": [
       "'column ----------------------- visit_date'"
      ]
     },
     "metadata": {},
     "output_type": "display_data"
    },
    {
     "data": {
      "text/plain": [
       "'unique num: 226'"
      ]
     },
     "metadata": {},
     "output_type": "display_data"
    },
    {
     "data": {
      "text/plain": [
       "2021-05-24    513035\n",
       "2021-12-21    279622\n",
       "2021-05-25    235805\n",
       "2021-09-23    167122\n",
       "2021-05-26    158381\n",
       "               ...  \n",
       "2021-07-24     23488\n",
       "2021-05-23     18771\n",
       "2021-05-19     14605\n",
       "2021-05-22     13917\n",
       "2021-05-21     13497\n",
       "Name: visit_date, Length: 226, dtype: int64"
      ]
     },
     "metadata": {},
     "output_type": "display_data"
    },
    {
     "data": {
      "text/plain": [
       "'column ----------------------- visit_time'"
      ]
     },
     "metadata": {},
     "output_type": "display_data"
    },
    {
     "data": {
      "text/plain": [
       "'unique num: 85032'"
      ]
     },
     "metadata": {},
     "output_type": "display_data"
    },
    {
     "data": {
      "text/plain": [
       "13:00:00    544567\n",
       "12:00:00    538417\n",
       "14:00:00    536830\n",
       "16:00:00    528814\n",
       "11:00:00    524413\n",
       "             ...  \n",
       "05:49:08         1\n",
       "03:24:12         1\n",
       "02:45:36         1\n",
       "02:32:26         1\n",
       "03:19:24         1\n",
       "Name: visit_time, Length: 85032, dtype: int64"
      ]
     },
     "metadata": {},
     "output_type": "display_data"
    },
    {
     "data": {
      "text/plain": [
       "'column ----------------------- visit_number'"
      ]
     },
     "metadata": {},
     "output_type": "display_data"
    },
    {
     "data": {
      "text/plain": [
       "'unique num: 533'"
      ]
     },
     "metadata": {},
     "output_type": "display_data"
    },
    {
     "data": {
      "text/plain": [
       "1      11580346\n",
       "2       2035448\n",
       "3        651357\n",
       "4        375474\n",
       "5        198832\n",
       "         ...   \n",
       "413           1\n",
       "409           1\n",
       "408           1\n",
       "372           1\n",
       "564           1\n",
       "Name: visit_number, Length: 533, dtype: int64"
      ]
     },
     "metadata": {},
     "output_type": "display_data"
    },
    {
     "data": {
      "text/plain": [
       "'column ----------------------- utm_source'"
      ]
     },
     "metadata": {},
     "output_type": "display_data"
    },
    {
     "data": {
      "text/plain": [
       "'unique num: 280'"
      ]
     },
     "metadata": {},
     "output_type": "display_data"
    },
    {
     "data": {
      "text/plain": [
       "ZpYIoDJMcFzVoPFsHGJL    5151702\n",
       "fDLlAcSmythWSCVMvqvL    3250926\n",
       "kjsLglQLzykiRbcDiGcD    1772431\n",
       "bByPQxmDaMXgpHeypKSM    1341803\n",
       "BHcvLfOaCWvWTykYqHVe    1231071\n",
       "                         ...   \n",
       "WRHPhoRKhKxaenRCLBfo          1\n",
       "dIOSwfBKYOHWMhxrecPD          1\n",
       "SHJiZmjiDXmvjHwbFkEu          1\n",
       "JdKLSdewxFqMMgKKiXBO          1\n",
       "XGOsamgBesNClOIokPJY          1\n",
       "Name: utm_source, Length: 280, dtype: int64"
      ]
     },
     "metadata": {},
     "output_type": "display_data"
    },
    {
     "data": {
      "text/plain": [
       "'column ----------------------- utm_medium'"
      ]
     },
     "metadata": {},
     "output_type": "display_data"
    },
    {
     "data": {
      "text/plain": [
       "'unique num: 55'"
      ]
     },
     "metadata": {},
     "output_type": "display_data"
    },
    {
     "data": {
      "text/plain": [
       "banner               4898563\n",
       "cpc                  3300503\n",
       "(none)               3250926\n",
       "referral             1920459\n",
       "cpm                   738765\n",
       "organic               646182\n",
       "push                  252864\n",
       "email                 241084\n",
       "stories                95604\n",
       "blogger_channel        87087\n",
       "smartbanner            49146\n",
       "tg                     33822\n",
       "blogger_stories        33068\n",
       "cpa                    31586\n",
       "cpv                    27395\n",
       "post                   21531\n",
       "outlook                14702\n",
       "smm                    12388\n",
       "clicks                  8988\n",
       "(not set)               4555\n",
       "app                     3806\n",
       "info_text               3401\n",
       "blogger_header          2888\n",
       "sms                     2051\n",
       "landing                 1069\n",
       "partner                  582\n",
       "CPM                      412\n",
       "link                     372\n",
       "yandex_cpc               247\n",
       "vk_smm                   211\n",
       "medium                   153\n",
       "static                   132\n",
       "google_cpc               127\n",
       "cbaafe                   110\n",
       "fb_smm                    90\n",
       "article                   86\n",
       "nkp                       49\n",
       "web_polka                 46\n",
       "ok_smm                    36\n",
       "social                    35\n",
       "main_polka                22\n",
       "sber_app                  20\n",
       "landing_interests         12\n",
       "qrcodevideo                8\n",
       "users_msk                  7\n",
       "catalogue                  5\n",
       "dom_click                  5\n",
       "last                       4\n",
       "promo_sber                 4\n",
       "reach                      3\n",
       "linktest                   3\n",
       "promo_sbol                 2\n",
       "tablet                     1\n",
       "Sbol_catalog               1\n",
       "qr                         1\n",
       "Name: utm_medium, dtype: int64"
      ]
     },
     "metadata": {},
     "output_type": "display_data"
    },
    {
     "data": {
      "text/plain": [
       "'column ----------------------- utm_campaign'"
      ]
     },
     "metadata": {},
     "output_type": "display_data"
    },
    {
     "data": {
      "text/plain": [
       "'unique num: 406'"
      ]
     },
     "metadata": {},
     "output_type": "display_data"
    },
    {
     "data": {
      "text/plain": [
       "LTuZkdKfxRGVceoWkVyg    5166521\n",
       "LEoPHuyFvzoNfnzGgfcd    3177265\n",
       "gecBYcKZCPMcVYdSSzKP    1138547\n",
       "FTjNLDyTrXaWYgZymFkV     750959\n",
       "sbJRYgVfvcnqKJNDDYIr     184020\n",
       "                         ...   \n",
       "VbwhIlTuTQfiffXsGgWV          1\n",
       "ZHCJROlbqnkXTqIuVxnm          1\n",
       "NUYvxgBEIYqMlnpeDTIM          1\n",
       "RkpOyeEPgcMBSDuHLQcj          1\n",
       "cXxuwXPoQCvAXPHpFcZl          1\n",
       "Name: utm_campaign, Length: 406, dtype: int64"
      ]
     },
     "metadata": {},
     "output_type": "display_data"
    },
    {
     "data": {
      "text/plain": [
       "'column ----------------------- utm_adcontent'"
      ]
     },
     "metadata": {},
     "output_type": "display_data"
    },
    {
     "data": {
      "text/plain": [
       "'unique num: 280'"
      ]
     },
     "metadata": {},
     "output_type": "display_data"
    },
    {
     "data": {
      "text/plain": [
       "JNHcPlZPxEMWDnRiyoBf    9647665\n",
       "vCIpmpaGBnIQhyYNkXqp    1806637\n",
       "xhoenQgDQsgfEPYNPwKO     345071\n",
       "PkybGvWbaqORmxjNunqZ     199457\n",
       "LLfCasrxQzJIyuldcuWy     176169\n",
       "                         ...   \n",
       "gQEnaeQmOHisHSTEyzhp          1\n",
       "vXARZToVDdvNhALiQtvl          1\n",
       "fiImkyBmzQSeAeQEVCDZ          1\n",
       "FsyvyvqcdOnQCoOklwfT          1\n",
       "fBRoTJlPSQvdkRoAJkVN          1\n",
       "Name: utm_adcontent, Length: 280, dtype: int64"
      ]
     },
     "metadata": {},
     "output_type": "display_data"
    },
    {
     "data": {
      "text/plain": [
       "'column ----------------------- utm_keyword'"
      ]
     },
     "metadata": {},
     "output_type": "display_data"
    },
    {
     "data": {
      "text/plain": [
       "'unique num: 1192'"
      ]
     },
     "metadata": {},
     "output_type": "display_data"
    },
    {
     "data": {
      "text/plain": [
       "puhZPIYqKXeFPaUviSjo    4717082\n",
       "aXQzDWsJuGXeBXexNHjc     176453\n",
       "ITfrGJNwVsHBGJMAKoct     138328\n",
       "UKNBOHebRIIsQRsjNKay     132629\n",
       "hAmNSZmQkKQKAjZEGlgb      95962\n",
       "                         ...   \n",
       "pbDudNzVMOgnBNGCXLTy          1\n",
       "aPqwsNrUDOqqlOPbgStP          1\n",
       "AWuRIdQALexokAiMRaos          1\n",
       "MXqmDyetMTICSSitTjWV          1\n",
       "fcXWTQaKfxbkBkBnzLhK          1\n",
       "Name: utm_keyword, Length: 1192, dtype: int64"
      ]
     },
     "metadata": {},
     "output_type": "display_data"
    },
    {
     "data": {
      "text/plain": [
       "'column ----------------------- device_category'"
      ]
     },
     "metadata": {},
     "output_type": "display_data"
    },
    {
     "data": {
      "text/plain": [
       "'unique num: 3'"
      ]
     },
     "metadata": {},
     "output_type": "display_data"
    },
    {
     "data": {
      "text/plain": [
       "mobile     11595541\n",
       "desktop     3945254\n",
       "tablet       144424\n",
       "Name: device_category, dtype: int64"
      ]
     },
     "metadata": {},
     "output_type": "display_data"
    },
    {
     "data": {
      "text/plain": [
       "'column ----------------------- device_os'"
      ]
     },
     "metadata": {},
     "output_type": "display_data"
    },
    {
     "data": {
      "text/plain": [
       "'unique num: 13'"
      ]
     },
     "metadata": {},
     "output_type": "display_data"
    },
    {
     "data": {
      "text/plain": [
       "Android          3433515\n",
       "iOS              1735956\n",
       "Windows          1015524\n",
       "Macintosh         309734\n",
       "Linux              30932\n",
       "(not set)            448\n",
       "Chrome OS            360\n",
       "BlackBerry           211\n",
       "Tizen                 99\n",
       "Firefox OS            37\n",
       "Nokia                 12\n",
       "Windows Phone          7\n",
       "Samsung                2\n",
       "Name: device_os, dtype: int64"
      ]
     },
     "metadata": {},
     "output_type": "display_data"
    },
    {
     "data": {
      "text/plain": [
       "'column ----------------------- device_brand'"
      ]
     },
     "metadata": {},
     "output_type": "display_data"
    },
    {
     "data": {
      "text/plain": [
       "'unique num: 200'"
      ]
     },
     "metadata": {},
     "output_type": "display_data"
    },
    {
     "data": {
      "text/plain": [
       "Apple        4708652\n",
       "Samsung      2609769\n",
       "Xiaomi       2071248\n",
       "Huawei       1370025\n",
       "Realme        142883\n",
       "              ...   \n",
       "Smartfren          1\n",
       "Vodafone           1\n",
       "Hafury             1\n",
       "Honeywell          1\n",
       "Maxvi              1\n",
       "Name: device_brand, Length: 200, dtype: int64"
      ]
     },
     "metadata": {},
     "output_type": "display_data"
    },
    {
     "data": {
      "text/plain": [
       "'column ----------------------- device_screen_resolution'"
      ]
     },
     "metadata": {},
     "output_type": "display_data"
    },
    {
     "data": {
      "text/plain": [
       "'unique num: 4947'"
      ]
     },
     "metadata": {},
     "output_type": "display_data"
    },
    {
     "data": {
      "text/plain": [
       "414x896      1480233\n",
       "1920x1080    1392794\n",
       "375x812      1036649\n",
       "393x851       905513\n",
       "375x667       752332\n",
       "              ...   \n",
       "1438x707           1\n",
       "1920x1097          1\n",
       "424x954            1\n",
       "576x1249           1\n",
       "444x961            1\n",
       "Name: device_screen_resolution, Length: 4947, dtype: int64"
      ]
     },
     "metadata": {},
     "output_type": "display_data"
    },
    {
     "data": {
      "text/plain": [
       "'column ----------------------- device_browser'"
      ]
     },
     "metadata": {},
     "output_type": "display_data"
    },
    {
     "data": {
      "text/plain": [
       "'unique num: 55'"
      ]
     },
     "metadata": {},
     "output_type": "display_data"
    },
    {
     "data": {
      "text/plain": [
       "Chrome                              8197216\n",
       "Safari                              4205045\n",
       "YaBrowser                           1315515\n",
       "Safari (in-app)                      639699\n",
       "Android Webview                      458074\n",
       "Samsung Internet                     262441\n",
       "Firefox                              206891\n",
       "Opera                                197007\n",
       "Edge                                 194101\n",
       "UC Browser                             5201\n",
       "Mozilla Compatible Agent                710\n",
       "Android Runtime                         652\n",
       "[FBAN                                   558\n",
       "Instagram 208.0.0.32.135 Android        363\n",
       "MRCHROME                                361\n",
       "Instagram 209.0.0.21.119 Android        240\n",
       "Puffin                                  225\n",
       "com.vk.vkclient                         115\n",
       "Maxthon                                 109\n",
       "Mozilla                                 105\n",
       "Android Browser                          76\n",
       "Internet Explorer                        75\n",
       "(not set)                                65\n",
       "Opera Mini                               59\n",
       "helloworld                               52\n",
       "Amazon Silk                              33\n",
       "Coc Coc                                  22\n",
       "Android                                  19\n",
       "SeaMonkey                                19\n",
       "Instagram 202.0.0.23.119                 18\n",
       "Instagram 207.0.0.28.118                 16\n",
       "Instagram 194.0.0.36.172 Android         14\n",
       "Instagram 208.0.0.26.131                 12\n",
       "Instagram 216.1.0.21.137 Android         12\n",
       "Instagram 216.0.0.12.135                 12\n",
       "Instagram 202.0.0.37.123 Android         12\n",
       "MyApp                                    11\n",
       "Instagram 192.0.0.37.119                  6\n",
       "Nokia501                                  6\n",
       "Instagram 203.0.0.26.117                  6\n",
       "NokiaX2-02                                6\n",
       "Instagram 212.0.0.38.119 Android          6\n",
       "Instagram 201.0.0.23.111                  5\n",
       "Konqueror                                 4\n",
       "Instagram 213.0.0.29.120 Android          4\n",
       "Instagram 192.0.0.35.123 Android          3\n",
       "Instagram 158.0.0.30.123 Android          3\n",
       "Instagram 213.0.0.19.117                  3\n",
       "Iron                                      3\n",
       "Instagram 199.0.0.27.120                  2\n",
       "NetFront                                  2\n",
       "Instagram 199.1.0.34.119 Android          2\n",
       "MT6735_TD                                 1\n",
       "com.zhiliaoapp.musically                  1\n",
       "Threads 202.0.0.23.119                    1\n",
       "Name: device_browser, dtype: int64"
      ]
     },
     "metadata": {},
     "output_type": "display_data"
    },
    {
     "data": {
      "text/plain": [
       "'column ----------------------- geo_country'"
      ]
     },
     "metadata": {},
     "output_type": "display_data"
    },
    {
     "data": {
      "text/plain": [
       "'unique num: 159'"
      ]
     },
     "metadata": {},
     "output_type": "display_data"
    },
    {
     "data": {
      "text/plain": [
       "Russia                 15270908\n",
       "Ukraine                   76283\n",
       "United States             34389\n",
       "Belarus                   29799\n",
       "Germany                   25116\n",
       "                         ...   \n",
       "Congo - Brazzaville           2\n",
       "Barbados                      1\n",
       "Paraguay                      1\n",
       "Puerto Rico                   1\n",
       "Cameroon                      1\n",
       "Name: geo_country, Length: 159, dtype: int64"
      ]
     },
     "metadata": {},
     "output_type": "display_data"
    },
    {
     "data": {
      "text/plain": [
       "'column ----------------------- geo_city'"
      ]
     },
     "metadata": {},
     "output_type": "display_data"
    },
    {
     "data": {
      "text/plain": [
       "'unique num: 2389'"
      ]
     },
     "metadata": {},
     "output_type": "display_data"
    },
    {
     "data": {
      "text/plain": [
       "Moscow                    6795118\n",
       "Saint Petersburg          2365520\n",
       "(not set)                  596279\n",
       "Yekaterinburg              328301\n",
       "Krasnodar                  293501\n",
       "                           ...   \n",
       "Mosonmagyarovar                 1\n",
       "Kobelyaky                       1\n",
       "Ridgefield Park                 1\n",
       "Zhashkiv                        1\n",
       "Bad Neuenahr-Ahrweiler          1\n",
       "Name: geo_city, Length: 2389, dtype: int64"
      ]
     },
     "metadata": {},
     "output_type": "display_data"
    },
    {
     "data": {
      "text/plain": [
       "'column ----------------------- hit_date'"
      ]
     },
     "metadata": {},
     "output_type": "display_data"
    },
    {
     "data": {
      "text/plain": [
       "'unique num: 226'"
      ]
     },
     "metadata": {},
     "output_type": "display_data"
    },
    {
     "data": {
      "text/plain": [
       "2021-05-24    513035\n",
       "2021-12-21    279622\n",
       "2021-05-25    235805\n",
       "2021-09-23    167122\n",
       "2021-05-26    158381\n",
       "               ...  \n",
       "2021-07-24     23488\n",
       "2021-05-23     18771\n",
       "2021-05-19     14605\n",
       "2021-05-22     13917\n",
       "2021-05-21     13497\n",
       "Name: hit_date, Length: 226, dtype: int64"
      ]
     },
     "metadata": {},
     "output_type": "display_data"
    },
    {
     "data": {
      "text/plain": [
       "'column ----------------------- hit_time'"
      ]
     },
     "metadata": {},
     "output_type": "display_data"
    },
    {
     "data": {
      "text/plain": [
       "'unique num: 914611'"
      ]
     },
     "metadata": {},
     "output_type": "display_data"
    },
    {
     "data": {
      "text/plain": [
       "0.0          40799\n",
       "1.0          18471\n",
       "2.0          10074\n",
       "3.0           6043\n",
       "4.0           4460\n",
       "             ...  \n",
       "933947.0         1\n",
       "483523.0         1\n",
       "1023246.0        1\n",
       "1135371.0        1\n",
       "679353.0         1\n",
       "Name: hit_time, Length: 914611, dtype: int64"
      ]
     },
     "metadata": {},
     "output_type": "display_data"
    },
    {
     "data": {
      "text/plain": [
       "'column ----------------------- hit_number'"
      ]
     },
     "metadata": {},
     "output_type": "display_data"
    },
    {
     "data": {
      "text/plain": [
       "'unique num: 500'"
      ]
     },
     "metadata": {},
     "output_type": "display_data"
    },
    {
     "data": {
      "text/plain": [
       "3      1096362\n",
       "4       927237\n",
       "7       666552\n",
       "8       571015\n",
       "9       547454\n",
       "        ...   \n",
       "479         41\n",
       "497         40\n",
       "494         40\n",
       "462         39\n",
       "486         39\n",
       "Name: hit_number, Length: 500, dtype: int64"
      ]
     },
     "metadata": {},
     "output_type": "display_data"
    },
    {
     "data": {
      "text/plain": [
       "'column ----------------------- hit_type'"
      ]
     },
     "metadata": {},
     "output_type": "display_data"
    },
    {
     "data": {
      "text/plain": [
       "'unique num: 1'"
      ]
     },
     "metadata": {},
     "output_type": "display_data"
    },
    {
     "data": {
      "text/plain": [
       "event    15685219\n",
       "Name: hit_type, dtype: int64"
      ]
     },
     "metadata": {},
     "output_type": "display_data"
    },
    {
     "data": {
      "text/plain": [
       "'column ----------------------- hit_referer'"
      ]
     },
     "metadata": {},
     "output_type": "display_data"
    },
    {
     "data": {
      "text/plain": [
       "'unique num: 37826'"
      ]
     },
     "metadata": {},
     "output_type": "display_data"
    },
    {
     "data": {
      "text/plain": [
       "HbolMJUevblAbkHClEQa    8879128\n",
       "FwdMTcXzWAwhtsnMAbhS      91293\n",
       "sAGDBCdeVPmQPwkVEcIX      53559\n",
       "GQmOLxANuSeCxCanBpMl      35470\n",
       "ZeRnFrHdnMmnqraghdGJ      22992\n",
       "                         ...   \n",
       "SKrCAVFdldNiYqrkxxLt          1\n",
       "DpQALfPbDcfzqAAEHkyq          1\n",
       "mmYNGuZGaNPWyBfmpsbF          1\n",
       "hgrgXynTTzECdtEEJTed          1\n",
       "OfHBuerAJtSXInkjtmrK          1\n",
       "Name: hit_referer, Length: 37826, dtype: int64"
      ]
     },
     "metadata": {},
     "output_type": "display_data"
    },
    {
     "data": {
      "text/plain": [
       "'column ----------------------- hit_page_path'"
      ]
     },
     "metadata": {},
     "output_type": "display_data"
    },
    {
     "data": {
      "text/plain": [
       "'unique num: 342242'"
      ]
     },
     "metadata": {},
     "output_type": "display_data"
    },
    {
     "data": {
      "text/plain": [
       "podpiska.sberauto.com/                                                                                                                                                                                                                                                                                                                                                                                                                                                                                                                                                                                2790578\n",
       "sberauto.com/cars?city=1&rental_page=rental_only&rental_car=rental_only&city=18                                                                                                                                                                                                                                                                                                                                                                                                                                                                                                                       1103282\n",
       "sberauto.com/cars?utm_source_initial=sbol&utm_medium_initial=banner&utm_campaign_initial=LEoPHuyFvzoNfnzGgfcd&utm_content_initial=vCIpmpaGBnIQhyYNkXqp&city=1&rental_page=rental_only&rental_car=rental_only&city=18                                                                                                                                                                                                                                                                                                                                                                                   754215\n",
       "sberauto.com/cars/f28947a1?rental_page=rental_car                                                                                                                                                                                                                                                                                                                                                                                                                                                                                                                                                      264878\n",
       "sberauto.com/cars/bf24b977?rental_page=rental_car                                                                                                                                                                                                                                                                                                                                                                                                                                                                                                                                                      263966\n",
       "                                                                                                                                                                                                                                                                                                                                                                                                                                                                                                                                                                                                       ...   \n",
       "podpiska.sberauto.com/?yclid=6484627933086875647                                                                                                                                                                                                                                                                                                                                                                                                                                                                                                                                                            1\n",
       "sberauto.com/sankt-peterburg/cars?isnew=false&rental_car=rental_only&utm_source_initial=sbol&utm_medium_initial=banner&utm_campaign_initial=LEoPHuyFvzoNfnzGgfcd&utm_content_initial=vCIpmpaGBnIQhyYNkXqp&rental_page=rental_only&page=3                                                                                                                                                                                                                                                                                                                                                                    1\n",
       "sberauto.com/cars?utm_source_initial=google&utm_medium_initial=cpc&utm_campaign_initial=RoDitORHdzGfGhNCyEMy|VZxaKViwZIbyAQCieciI&utm_content_initial=yXzSAJWSuRbYeLFyMVFl|qxTZeubOgnlhOavdRrsD|xAEYTlJDbQNwQTLGxICQ|XWFAjbbiePkXXxdJuUDP|lFpAoUqEvHoyZfCNRuCR|toAyGfPfeYenaeQUHrzX|dtYJKUplNmmKCOfiziff|sSJzFYFuIjkExlLfXOdE|aHSPdWXGkJravzWuwcJA|HbolMJUevblAbkHClEQa|kqZPVvZmXADsCZxIQwbv|QaGunexmXrztCWbLcYxs|OfdDOXSwHYclonQJpPxh|vqbaMIZaYiXbuzPpgjWE|HbolMJUevblAbkHClEQa&utm_term_initial=&city=1&rental_page=rental_only&rental_car=rental_only&city=18                                            1\n",
       "podpiska.sberauto.com/?yclid=3674214408032139314                                                                                                                                                                                                                                                                                                                                                                                                                                                                                                                                                            1\n",
       "sberauto.com/cars/toyota?city=1&city=18&rental_car=rental_only&utm_source_initial=yandex&utm_medium_initial=cpc&utm_campaign_initial=nSReTmyFtbSjlPrTKoaX|fVHJqnfOFSWcsCBViJGr&utm_content_initial=yXzSAJWSuRbYeLFyMVFl|YjagTPsykUtMSrHgFPJc|xAEYTlJDbQNwQTLGxICQ|dwfnIkMEwJhmnyojmAoc|lFpAoUqEvHoyZfCNRuCR|nCFNEpzHTPkEkHrVLCIO|rjbbNGNkjGThUJNtsWZQ|ddAKKJpuifTlvemrMIAS|ZIKCVYXYgRrZdwlVkEEf|HbolMJUevblAbkHClEQa|kqZPVvZmXADsCZxIQwbv|vnTlRpYmthtVDImMLSmr|OfdDOXSwHYclonQJpPxh|YhdYMAYSoTzDKQYzVVMr|HbolMJUevblAbkHClEQa&utm_term_initial=lVHkqXlZapieOXCrCJWG&rental_page=rental_only&page=1          1\n",
       "Name: hit_page_path, Length: 342242, dtype: int64"
      ]
     },
     "metadata": {},
     "output_type": "display_data"
    },
    {
     "data": {
      "text/plain": [
       "'column ----------------------- event_category'"
      ]
     },
     "metadata": {},
     "output_type": "display_data"
    },
    {
     "data": {
      "text/plain": [
       "'unique num: 52'"
      ]
     },
     "metadata": {},
     "output_type": "display_data"
    },
    {
     "data": {
      "text/plain": [
       "card_web                         7431798\n",
       "search_form                      2420600\n",
       "sub_page_view                    1984307\n",
       "sub_button_click                 1070544\n",
       "listing_ads                      1038862\n",
       "cars                              358161\n",
       "sap_search_form                   356557\n",
       "quiz                              262922\n",
       "sap_search__form                  188060\n",
       "auth                              186442\n",
       "jivosite                           88443\n",
       "chat                               84749\n",
       "ad_banner                          40008\n",
       "offers                             31079\n",
       "navigation                         26471\n",
       "footer                             20288\n",
       "sub_submit                         17987\n",
       "greenday_sub_button_click          15411\n",
       "main_banners                       13810\n",
       "profile_menu                       13502\n",
       "scrolling_main_page                12134\n",
       "active_invitation                   8476\n",
       "header                              3523\n",
       "my_idea                             2317\n",
       "greenday_listing_ads                1789\n",
       "main_services                       1464\n",
       "phone                               1210\n",
       "category_tile                        924\n",
       "greenday_gtm.triggergroup            753\n",
       "add_ad                               744\n",
       "greenday_sub_submit                  728\n",
       "credit_landing_pos                   274\n",
       "add_ad_additional_information        122\n",
       "main_advantages                      100\n",
       "add_ad_vin                            88\n",
       "pos_landing                           67\n",
       "add_ad_publish_success                65\n",
       "add_ad_options                        62\n",
       "add_ad_city                           59\n",
       "add_ad_photo                          55\n",
       "add_ad_price                          53\n",
       "add_ad_preview                        49\n",
       "add_ad_description                    48\n",
       "add_ad_documents                      46\n",
       "credit_buttons                        27\n",
       "wallet                                15\n",
       "tesla                                 10\n",
       "greenday_sub_page_view                 5\n",
       "add_ad_form                            4\n",
       "greenday_card_web                      4\n",
       "app_banner                             2\n",
       "titul_form                             1\n",
       "Name: event_category, dtype: int64"
      ]
     },
     "metadata": {},
     "output_type": "display_data"
    },
    {
     "data": {
      "text/plain": [
       "'column ----------------------- event_action'"
      ]
     },
     "metadata": {},
     "output_type": "display_data"
    },
    {
     "data": {
      "text/plain": [
       "'unique num: 230'"
      ]
     },
     "metadata": {},
     "output_type": "display_data"
    },
    {
     "data": {
      "text/plain": [
       "view_card                     3546622\n",
       "view_new_card                 3539687\n",
       "sub_landing                   1796528\n",
       "go_to_car_card                 972151\n",
       "sub_view_cars_click            791042\n",
       "                               ...   \n",
       "backward_to_city                    1\n",
       "backward_to_options                 1\n",
       "continue in social                  1\n",
       "survey_buy_after_sell_when          1\n",
       "click_on_android                    1\n",
       "Name: event_action, Length: 230, dtype: int64"
      ]
     },
     "metadata": {},
     "output_type": "display_data"
    },
    {
     "data": {
      "text/plain": [
       "'column ----------------------- event_label'"
      ]
     },
     "metadata": {},
     "output_type": "display_data"
    },
    {
     "data": {
      "text/plain": [
       "'unique num: 39777'"
      ]
     },
     "metadata": {},
     "output_type": "display_data"
    },
    {
     "data": {
      "text/plain": [
       "KclpemfoHstknWHFiLit    6505347\n",
       "hAHqGICPFQiPwtzubOzs    1282471\n",
       "OHfyUfDKdPgBdvelDlfG     626250\n",
       "pzAKUYdRKNEUXxxBFUPX     358161\n",
       "ghOrjqpgskpGHSFfBBsi     341843\n",
       "                         ...   \n",
       "LbFJgNlmcIVEIDOREfOR          1\n",
       "beHQQgixhtOTmJWmIoPG          1\n",
       "NdoUPlCruduKdjOcuvOj          1\n",
       "rUdjkWCVjDCiojCqExgI          1\n",
       "uBAcRvfHRdEGIhzGdXvK          1\n",
       "Name: event_label, Length: 39777, dtype: int64"
      ]
     },
     "metadata": {},
     "output_type": "display_data"
    }
   ],
   "source": [
    "for column in merged_df.columns.tolist():\n",
    "    display(f'column ----------------------- {column}')\n",
    "    display(f'unique num: {merged_df[column].nunique()}')\n",
    "    display(merged_df[column].value_counts())"
   ]
  },
  {
   "cell_type": "code",
   "execution_count": null,
   "id": "a3272890",
   "metadata": {},
   "outputs": [],
   "source": []
  }
 ],
 "metadata": {
  "kernelspec": {
   "display_name": "Python 3 (ipykernel)",
   "language": "python",
   "name": "python3"
  },
  "language_info": {
   "codemirror_mode": {
    "name": "ipython",
    "version": 3
   },
   "file_extension": ".py",
   "mimetype": "text/x-python",
   "name": "python",
   "nbconvert_exporter": "python",
   "pygments_lexer": "ipython3",
   "version": "3.11.4"
  }
 },
 "nbformat": 4,
 "nbformat_minor": 5
}
