{
 "cells": [
  {
   "cell_type": "code",
   "execution_count": 1,
   "id": "b1d5f6b6",
   "metadata": {},
   "outputs": [],
   "source": [
    "import pandas as pd\n",
    "\n",
    "merged_df = pd.read_csv('processed_data/merged_step_1.csv')"
   ]
  },
  {
   "cell_type": "code",
   "execution_count": 3,
   "id": "4e5100a5",
   "metadata": {},
   "outputs": [
    {
     "data": {
      "text/html": [
       "<div>\n",
       "<style scoped>\n",
       "    .dataframe tbody tr th:only-of-type {\n",
       "        vertical-align: middle;\n",
       "    }\n",
       "\n",
       "    .dataframe tbody tr th {\n",
       "        vertical-align: top;\n",
       "    }\n",
       "\n",
       "    .dataframe thead th {\n",
       "        text-align: right;\n",
       "    }\n",
       "</style>\n",
       "<table border=\"1\" class=\"dataframe\">\n",
       "  <thead>\n",
       "    <tr style=\"text-align: right;\">\n",
       "      <th></th>\n",
       "      <th>Unnamed: 0</th>\n",
       "      <th>session_id</th>\n",
       "      <th>client_id</th>\n",
       "      <th>visit_number</th>\n",
       "      <th>utm_medium</th>\n",
       "      <th>device_category</th>\n",
       "      <th>device_screen_resolution</th>\n",
       "      <th>device_browser</th>\n",
       "      <th>geo_country</th>\n",
       "      <th>geo_city</th>\n",
       "      <th>hit_number</th>\n",
       "      <th>hit_page_path</th>\n",
       "      <th>visit_datetime</th>\n",
       "      <th>event_target</th>\n",
       "    </tr>\n",
       "  </thead>\n",
       "  <tbody>\n",
       "    <tr>\n",
       "      <th>0</th>\n",
       "      <td>0</td>\n",
       "      <td>9055434745589932991.1637753792.1637753792</td>\n",
       "      <td>2.108383e+09</td>\n",
       "      <td>1</td>\n",
       "      <td>banner</td>\n",
       "      <td>mobile</td>\n",
       "      <td>360x720</td>\n",
       "      <td>Chrome</td>\n",
       "      <td>Russia</td>\n",
       "      <td>Zlatoust</td>\n",
       "      <td>3</td>\n",
       "      <td>podpiska.sberauto.com/</td>\n",
       "      <td>2021-11-24 14:36:32</td>\n",
       "      <td>False</td>\n",
       "    </tr>\n",
       "    <tr>\n",
       "      <th>1</th>\n",
       "      <td>1</td>\n",
       "      <td>9055434745589932991.1637753792.1637753792</td>\n",
       "      <td>2.108383e+09</td>\n",
       "      <td>1</td>\n",
       "      <td>banner</td>\n",
       "      <td>mobile</td>\n",
       "      <td>360x720</td>\n",
       "      <td>Chrome</td>\n",
       "      <td>Russia</td>\n",
       "      <td>Zlatoust</td>\n",
       "      <td>4</td>\n",
       "      <td>podpiska.sberauto.com/</td>\n",
       "      <td>2021-11-24 14:36:32</td>\n",
       "      <td>False</td>\n",
       "    </tr>\n",
       "    <tr>\n",
       "      <th>2</th>\n",
       "      <td>2</td>\n",
       "      <td>905544597018549464.1636867290.1636867290</td>\n",
       "      <td>2.108385e+08</td>\n",
       "      <td>1</td>\n",
       "      <td>cpm</td>\n",
       "      <td>mobile</td>\n",
       "      <td>385x854</td>\n",
       "      <td>Samsung Internet</td>\n",
       "      <td>Russia</td>\n",
       "      <td>Moscow</td>\n",
       "      <td>3</td>\n",
       "      <td>podpiska.sberauto.com/</td>\n",
       "      <td>2021-11-14 08:21:30</td>\n",
       "      <td>False</td>\n",
       "    </tr>\n",
       "    <tr>\n",
       "      <th>3</th>\n",
       "      <td>3</td>\n",
       "      <td>9055446045651783499.1640648526.1640648526</td>\n",
       "      <td>2.108385e+09</td>\n",
       "      <td>1</td>\n",
       "      <td>banner</td>\n",
       "      <td>mobile</td>\n",
       "      <td>360x720</td>\n",
       "      <td>Chrome</td>\n",
       "      <td>Russia</td>\n",
       "      <td>Krasnoyarsk</td>\n",
       "      <td>10</td>\n",
       "      <td>sberauto.com/cars?utm_source_initial=sbol&amp;utm_...</td>\n",
       "      <td>2021-12-28 02:42:06</td>\n",
       "      <td>False</td>\n",
       "    </tr>\n",
       "    <tr>\n",
       "      <th>4</th>\n",
       "      <td>4</td>\n",
       "      <td>9055446045651783499.1640648526.1640648526</td>\n",
       "      <td>2.108385e+09</td>\n",
       "      <td>1</td>\n",
       "      <td>banner</td>\n",
       "      <td>mobile</td>\n",
       "      <td>360x720</td>\n",
       "      <td>Chrome</td>\n",
       "      <td>Russia</td>\n",
       "      <td>Krasnoyarsk</td>\n",
       "      <td>13</td>\n",
       "      <td>sberauto.com/cars?utm_source_initial=sbol&amp;utm_...</td>\n",
       "      <td>2021-12-28 02:42:06</td>\n",
       "      <td>False</td>\n",
       "    </tr>\n",
       "    <tr>\n",
       "      <th>...</th>\n",
       "      <td>...</td>\n",
       "      <td>...</td>\n",
       "      <td>...</td>\n",
       "      <td>...</td>\n",
       "      <td>...</td>\n",
       "      <td>...</td>\n",
       "      <td>...</td>\n",
       "      <td>...</td>\n",
       "      <td>...</td>\n",
       "      <td>...</td>\n",
       "      <td>...</td>\n",
       "      <td>...</td>\n",
       "      <td>...</td>\n",
       "      <td>...</td>\n",
       "    </tr>\n",
       "    <tr>\n",
       "      <th>15459377</th>\n",
       "      <td>15685214</td>\n",
       "      <td>9055430416266113553.1640968742.1640968742</td>\n",
       "      <td>2.108382e+09</td>\n",
       "      <td>1</td>\n",
       "      <td>cpm</td>\n",
       "      <td>desktop</td>\n",
       "      <td>1366x768</td>\n",
       "      <td>Chrome</td>\n",
       "      <td>Russia</td>\n",
       "      <td>Moscow</td>\n",
       "      <td>11</td>\n",
       "      <td>sberauto.com/cars/all/bmw/3-serii/bde2c9d5?utm...</td>\n",
       "      <td>2021-12-31 19:39:02</td>\n",
       "      <td>False</td>\n",
       "    </tr>\n",
       "    <tr>\n",
       "      <th>15459378</th>\n",
       "      <td>15685215</td>\n",
       "      <td>9055430416266113553.1640968742.1640968742</td>\n",
       "      <td>2.108382e+09</td>\n",
       "      <td>1</td>\n",
       "      <td>cpm</td>\n",
       "      <td>desktop</td>\n",
       "      <td>1366x768</td>\n",
       "      <td>Chrome</td>\n",
       "      <td>Russia</td>\n",
       "      <td>Moscow</td>\n",
       "      <td>16</td>\n",
       "      <td>sberauto.com/cars/all/bmw/3-serii/bde2c9d5?utm...</td>\n",
       "      <td>2021-12-31 19:39:02</td>\n",
       "      <td>False</td>\n",
       "    </tr>\n",
       "    <tr>\n",
       "      <th>15459379</th>\n",
       "      <td>15685216</td>\n",
       "      <td>9055430416266113553.1640968742.1640968742</td>\n",
       "      <td>2.108382e+09</td>\n",
       "      <td>1</td>\n",
       "      <td>cpm</td>\n",
       "      <td>desktop</td>\n",
       "      <td>1366x768</td>\n",
       "      <td>Chrome</td>\n",
       "      <td>Russia</td>\n",
       "      <td>Moscow</td>\n",
       "      <td>3</td>\n",
       "      <td>sberauto.com/cars/all/mercedes-benz/e-klasse/d...</td>\n",
       "      <td>2021-12-31 19:39:02</td>\n",
       "      <td>False</td>\n",
       "    </tr>\n",
       "    <tr>\n",
       "      <th>15459380</th>\n",
       "      <td>15685217</td>\n",
       "      <td>9055430416266113553.1640968742.1640968742</td>\n",
       "      <td>2.108382e+09</td>\n",
       "      <td>1</td>\n",
       "      <td>cpm</td>\n",
       "      <td>desktop</td>\n",
       "      <td>1366x768</td>\n",
       "      <td>Chrome</td>\n",
       "      <td>Russia</td>\n",
       "      <td>Moscow</td>\n",
       "      <td>14</td>\n",
       "      <td>sberauto.com/cars/all/bmw/3-serii/bde2c9d5?utm...</td>\n",
       "      <td>2021-12-31 19:39:02</td>\n",
       "      <td>False</td>\n",
       "    </tr>\n",
       "    <tr>\n",
       "      <th>15459381</th>\n",
       "      <td>15685218</td>\n",
       "      <td>9055430416266113553.1640968742.1640968742</td>\n",
       "      <td>2.108382e+09</td>\n",
       "      <td>1</td>\n",
       "      <td>cpm</td>\n",
       "      <td>desktop</td>\n",
       "      <td>1366x768</td>\n",
       "      <td>Chrome</td>\n",
       "      <td>Russia</td>\n",
       "      <td>Moscow</td>\n",
       "      <td>17</td>\n",
       "      <td>sberauto.com/cars/all/bmw/3-serii/bde2c9d5?utm...</td>\n",
       "      <td>2021-12-31 19:39:02</td>\n",
       "      <td>False</td>\n",
       "    </tr>\n",
       "  </tbody>\n",
       "</table>\n",
       "<p>15459382 rows × 14 columns</p>\n",
       "</div>"
      ],
      "text/plain": [
       "          Unnamed: 0                                 session_id     client_id  \\\n",
       "0                  0  9055434745589932991.1637753792.1637753792  2.108383e+09   \n",
       "1                  1  9055434745589932991.1637753792.1637753792  2.108383e+09   \n",
       "2                  2   905544597018549464.1636867290.1636867290  2.108385e+08   \n",
       "3                  3  9055446045651783499.1640648526.1640648526  2.108385e+09   \n",
       "4                  4  9055446045651783499.1640648526.1640648526  2.108385e+09   \n",
       "...              ...                                        ...           ...   \n",
       "15459377    15685214  9055430416266113553.1640968742.1640968742  2.108382e+09   \n",
       "15459378    15685215  9055430416266113553.1640968742.1640968742  2.108382e+09   \n",
       "15459379    15685216  9055430416266113553.1640968742.1640968742  2.108382e+09   \n",
       "15459380    15685217  9055430416266113553.1640968742.1640968742  2.108382e+09   \n",
       "15459381    15685218  9055430416266113553.1640968742.1640968742  2.108382e+09   \n",
       "\n",
       "          visit_number utm_medium device_category device_screen_resolution  \\\n",
       "0                    1     banner          mobile                  360x720   \n",
       "1                    1     banner          mobile                  360x720   \n",
       "2                    1        cpm          mobile                  385x854   \n",
       "3                    1     banner          mobile                  360x720   \n",
       "4                    1     banner          mobile                  360x720   \n",
       "...                ...        ...             ...                      ...   \n",
       "15459377             1        cpm         desktop                 1366x768   \n",
       "15459378             1        cpm         desktop                 1366x768   \n",
       "15459379             1        cpm         desktop                 1366x768   \n",
       "15459380             1        cpm         desktop                 1366x768   \n",
       "15459381             1        cpm         desktop                 1366x768   \n",
       "\n",
       "            device_browser geo_country     geo_city  hit_number  \\\n",
       "0                   Chrome      Russia     Zlatoust           3   \n",
       "1                   Chrome      Russia     Zlatoust           4   \n",
       "2         Samsung Internet      Russia       Moscow           3   \n",
       "3                   Chrome      Russia  Krasnoyarsk          10   \n",
       "4                   Chrome      Russia  Krasnoyarsk          13   \n",
       "...                    ...         ...          ...         ...   \n",
       "15459377            Chrome      Russia       Moscow          11   \n",
       "15459378            Chrome      Russia       Moscow          16   \n",
       "15459379            Chrome      Russia       Moscow           3   \n",
       "15459380            Chrome      Russia       Moscow          14   \n",
       "15459381            Chrome      Russia       Moscow          17   \n",
       "\n",
       "                                              hit_page_path  \\\n",
       "0                                    podpiska.sberauto.com/   \n",
       "1                                    podpiska.sberauto.com/   \n",
       "2                                    podpiska.sberauto.com/   \n",
       "3         sberauto.com/cars?utm_source_initial=sbol&utm_...   \n",
       "4         sberauto.com/cars?utm_source_initial=sbol&utm_...   \n",
       "...                                                     ...   \n",
       "15459377  sberauto.com/cars/all/bmw/3-serii/bde2c9d5?utm...   \n",
       "15459378  sberauto.com/cars/all/bmw/3-serii/bde2c9d5?utm...   \n",
       "15459379  sberauto.com/cars/all/mercedes-benz/e-klasse/d...   \n",
       "15459380  sberauto.com/cars/all/bmw/3-serii/bde2c9d5?utm...   \n",
       "15459381  sberauto.com/cars/all/bmw/3-serii/bde2c9d5?utm...   \n",
       "\n",
       "               visit_datetime  event_target  \n",
       "0         2021-11-24 14:36:32         False  \n",
       "1         2021-11-24 14:36:32         False  \n",
       "2         2021-11-14 08:21:30         False  \n",
       "3         2021-12-28 02:42:06         False  \n",
       "4         2021-12-28 02:42:06         False  \n",
       "...                       ...           ...  \n",
       "15459377  2021-12-31 19:39:02         False  \n",
       "15459378  2021-12-31 19:39:02         False  \n",
       "15459379  2021-12-31 19:39:02         False  \n",
       "15459380  2021-12-31 19:39:02         False  \n",
       "15459381  2021-12-31 19:39:02         False  \n",
       "\n",
       "[15459382 rows x 14 columns]"
      ]
     },
     "execution_count": 3,
     "metadata": {},
     "output_type": "execute_result"
    }
   ],
   "source": [
    "merged_df"
   ]
  },
  {
   "cell_type": "code",
   "execution_count": 2,
   "id": "53baebea",
   "metadata": {},
   "outputs": [
    {
     "data": {
      "text/plain": [
       "'------ Unnamed: 0 ------'"
      ]
     },
     "metadata": {},
     "output_type": "display_data"
    },
    {
     "data": {
      "text/plain": [
       "array([       0,        1,        2, ..., 15685216, 15685217, 15685218],\n",
       "      dtype=int64)"
      ]
     },
     "metadata": {},
     "output_type": "display_data"
    },
    {
     "data": {
      "text/plain": [
       "15459382"
      ]
     },
     "metadata": {},
     "output_type": "display_data"
    },
    {
     "data": {
      "text/plain": [
       "'------ session_id ------'"
      ]
     },
     "metadata": {},
     "output_type": "display_data"
    },
    {
     "data": {
      "text/plain": [
       "array(['9055434745589932991.1637753792.1637753792',\n",
       "       '905544597018549464.1636867290.1636867290',\n",
       "       '9055446045651783499.1640648526.1640648526', ...,\n",
       "       '9055422955903931195.1636979515.1636979515',\n",
       "       '905543020766873816.1638189404.1638189404',\n",
       "       '9055430416266113553.1640968742.1640968742'], dtype=object)"
      ]
     },
     "metadata": {},
     "output_type": "display_data"
    },
    {
     "data": {
      "text/plain": [
       "1732266"
      ]
     },
     "metadata": {},
     "output_type": "display_data"
    },
    {
     "data": {
      "text/plain": [
       "'------ client_id ------'"
      ]
     },
     "metadata": {},
     "output_type": "display_data"
    },
    {
     "data": {
      "text/plain": [
       "array([2.10838270e+09, 2.10838531e+08, 2.10838533e+09, ...,\n",
       "       2.10837996e+09, 2.10838164e+08, 2.10838169e+09])"
      ]
     },
     "metadata": {},
     "output_type": "display_data"
    },
    {
     "data": {
      "text/plain": [
       "1320701"
      ]
     },
     "metadata": {},
     "output_type": "display_data"
    },
    {
     "data": {
      "text/plain": [
       "'------ visit_number ------'"
      ]
     },
     "metadata": {},
     "output_type": "display_data"
    },
    {
     "data": {
      "text/plain": [
       "array([  1,   2,   3,   4,   5,   6,  10,   7,   8,   9,  11,  12,  13,\n",
       "        14,  15,  16,  17,  18,  19,  20,  21,  22,  23,  24,  25,  26,\n",
       "        27,  28,  29,  30,  32,  34,  36,  37,  38,  39,  40,  41,  42,\n",
       "        43,  44,  45,  46,  47,  49,  50,  51,  52,  53,  54,  56,  57,\n",
       "        58,  59,  60,  61,  62,  63,  31,  33,  35,  48,  64,  55,  65,\n",
       "        66,  68,  69,  70,  71,  72,  73,  74,  75,  76,  77,  78,  67,\n",
       "        79,  80,  82,  83,  84,  85,  86,  87,  88,  89,  90,  91,  92,\n",
       "        93,  94,  95,  96,  97,  98,  99, 100, 101, 102, 103, 104, 105,\n",
       "       106, 107, 109, 110, 111, 112, 113, 114, 115, 116, 117, 118, 119,\n",
       "       120, 121, 122, 123, 125, 126, 127, 128, 129, 130, 131, 132, 133,\n",
       "       134, 135, 136, 137, 138, 139, 140, 141, 142, 143, 144, 145, 146,\n",
       "       147, 148, 149, 150, 151, 152, 153, 154, 155, 156, 157, 158, 159,\n",
       "       160, 161, 162, 163, 164, 165, 166, 167, 168, 169, 170, 171, 172,\n",
       "       173, 174, 175, 176, 177, 178, 179, 180, 181, 182, 183, 184, 185,\n",
       "       187, 189, 190, 191, 192, 193, 194, 195, 197, 198, 199, 200, 201,\n",
       "       202, 203, 204, 205, 206, 207, 208, 209, 210, 211, 212, 213, 214,\n",
       "       215, 216, 217, 218, 219, 220, 221, 222, 223, 224, 225, 227, 228,\n",
       "       229, 231, 233, 234, 235, 236, 237, 238, 239, 240, 241, 242, 243,\n",
       "       244, 245, 246, 247, 248, 249, 250, 251, 252, 253, 254, 255, 256,\n",
       "       257, 258, 259, 260, 261, 262, 263, 264, 265, 266, 267,  81, 108,\n",
       "       124, 274, 277, 278, 279, 280, 284, 285, 291, 186, 196, 232, 281,\n",
       "       282, 283, 286, 287, 289, 290, 292, 294, 295, 296, 297, 300, 301,\n",
       "       303, 304, 305, 306, 307, 309, 310, 311, 188, 226, 230, 270, 271,\n",
       "       272, 273, 276, 325, 326, 339, 354, 357, 268, 269, 275, 288, 293,\n",
       "       298, 299, 302, 308, 312, 313, 314, 315, 316, 317, 318, 319, 320,\n",
       "       321, 322, 323, 324, 327, 330, 331, 332, 333, 334, 335, 336, 345,\n",
       "       328, 329, 337, 338, 340, 341, 342, 343, 344, 346, 347, 348, 349,\n",
       "       350, 351, 353, 355, 356, 358, 359, 360, 361, 362, 363, 364, 365,\n",
       "       369, 370, 371, 372, 373, 374, 375, 376, 377, 378, 381, 383, 385,\n",
       "       387, 388, 389, 390, 391, 392, 393, 394, 395, 397, 398, 399, 400,\n",
       "       401, 402, 405, 406, 408, 409, 411, 412, 413, 414, 415, 416, 417,\n",
       "       418, 419, 420, 421, 422, 424, 425, 427, 428, 429, 430, 431, 432,\n",
       "       433, 434, 435, 436, 437, 438, 439, 440, 441, 442, 443, 444, 445,\n",
       "       446, 447, 448, 449, 450, 451, 452, 453, 454, 455, 456, 458, 459,\n",
       "       460, 461, 462, 463, 464, 465, 466, 467, 468, 469, 470, 471, 472,\n",
       "       473, 474, 475, 476, 477, 478, 479, 480, 481, 482, 483, 484, 485,\n",
       "       486, 487, 488, 489, 490, 494, 495, 496, 499, 501, 502, 503, 504,\n",
       "       505, 506, 507, 508, 509, 510, 511, 512, 513, 514, 515, 517, 518,\n",
       "       519, 520, 521, 522, 523, 524, 526, 527, 528, 529, 530, 531, 532,\n",
       "       533, 534, 535, 536, 537, 538, 539, 541, 543, 544, 547, 549, 550,\n",
       "       551, 552, 553, 554, 555, 556, 557, 558, 559, 561, 562, 563, 564],\n",
       "      dtype=int64)"
      ]
     },
     "metadata": {},
     "output_type": "display_data"
    },
    {
     "data": {
      "text/plain": [
       "533"
      ]
     },
     "metadata": {},
     "output_type": "display_data"
    },
    {
     "data": {
      "text/plain": [
       "'------ utm_medium ------'"
      ]
     },
     "metadata": {},
     "output_type": "display_data"
    },
    {
     "data": {
      "text/plain": [
       "array(['banner', 'cpm', 'cpc', 'organic', '(none)', 'referral', 'smm',\n",
       "       'stories', 'blogger_channel', 'blogger_stories', 'email', 'app',\n",
       "       'push', 'partner', 'tg', 'cpv', 'cpa', 'post', 'smartbanner',\n",
       "       'info_text', 'outlook', 'clicks', 'landing', 'blogger_header',\n",
       "       'qr', '(not set)', 'google_cpc', 'sms', 'article', 'vk_smm',\n",
       "       'static', 'cbaafe', 'Sbol_catalog', 'fb_smm', 'landing_interests',\n",
       "       'yandex_cpc', 'web_polka', 'ok_smm', 'linktest', 'sber_app', 'CPM',\n",
       "       'medium', 'tablet', 'promo_sbol', 'reach', 'dom_click', 'nkp',\n",
       "       'social', 'catalogue', 'main_polka', 'last', 'link', 'users_msk',\n",
       "       'qrcodevideo', 'promo_sber'], dtype=object)"
      ]
     },
     "metadata": {},
     "output_type": "display_data"
    },
    {
     "data": {
      "text/plain": [
       "55"
      ]
     },
     "metadata": {},
     "output_type": "display_data"
    },
    {
     "data": {
      "text/plain": [
       "'------ device_category ------'"
      ]
     },
     "metadata": {},
     "output_type": "display_data"
    },
    {
     "data": {
      "text/plain": [
       "array(['mobile', 'tablet', 'desktop'], dtype=object)"
      ]
     },
     "metadata": {},
     "output_type": "display_data"
    },
    {
     "data": {
      "text/plain": [
       "3"
      ]
     },
     "metadata": {},
     "output_type": "display_data"
    },
    {
     "data": {
      "text/plain": [
       "'------ device_screen_resolution ------'"
      ]
     },
     "metadata": {},
     "output_type": "display_data"
    },
    {
     "data": {
      "text/plain": [
       "array(['360x720', '385x854', '393x786', ..., '412x763', '1905x1080',\n",
       "       '464x1123'], dtype=object)"
      ]
     },
     "metadata": {},
     "output_type": "display_data"
    },
    {
     "data": {
      "text/plain": [
       "4947"
      ]
     },
     "metadata": {},
     "output_type": "display_data"
    },
    {
     "data": {
      "text/plain": [
       "'------ device_browser ------'"
      ]
     },
     "metadata": {},
     "output_type": "display_data"
    },
    {
     "data": {
      "text/plain": [
       "array(['Chrome', 'Samsung Internet', 'Safari', 'YaBrowser',\n",
       "       'Android Webview', 'Safari (in-app)', 'Opera', 'Firefox', 'Edge',\n",
       "       'helloworld', 'Android Runtime', 'UC Browser',\n",
       "       'Instagram 208.0.0.32.135 Android', 'Mozilla Compatible Agent',\n",
       "       '(not set)', 'Mozilla', 'Opera Mini', 'Coc Coc', 'Android',\n",
       "       'Instagram 216.1.0.21.137 Android', '[FBAN', 'Internet Explorer',\n",
       "       'Puffin', 'MRCHROME', 'com.vk.vkclient',\n",
       "       'Instagram 209.0.0.21.119 Android', 'Instagram 202.0.0.23.119',\n",
       "       'Instagram 213.0.0.29.120 Android', 'Android Browser', 'Maxthon',\n",
       "       'Instagram 207.0.0.28.118', 'Instagram 199.1.0.34.119 Android',\n",
       "       'Instagram 192.0.0.37.119', 'Amazon Silk', 'SeaMonkey',\n",
       "       'Instagram 194.0.0.36.172 Android', 'Instagram 216.0.0.12.135',\n",
       "       'Instagram 202.0.0.37.123 Android', 'MyApp', 'NetFront',\n",
       "       'Instagram 201.0.0.23.111', 'Instagram 203.0.0.26.117',\n",
       "       'Instagram 192.0.0.35.123 Android',\n",
       "       'Instagram 212.0.0.38.119 Android', 'Instagram 208.0.0.26.131',\n",
       "       'MT6735_TD', 'Instagram 199.0.0.27.120', 'NokiaX2-02',\n",
       "       'Instagram 158.0.0.30.123 Android', 'Nokia501',\n",
       "       'com.zhiliaoapp.musically', 'Konqueror',\n",
       "       'Instagram 213.0.0.19.117', 'Iron', 'Threads 202.0.0.23.119'],\n",
       "      dtype=object)"
      ]
     },
     "metadata": {},
     "output_type": "display_data"
    },
    {
     "data": {
      "text/plain": [
       "55"
      ]
     },
     "metadata": {},
     "output_type": "display_data"
    },
    {
     "data": {
      "text/plain": [
       "'------ geo_country ------'"
      ]
     },
     "metadata": {},
     "output_type": "display_data"
    },
    {
     "data": {
      "text/plain": [
       "array(['Russia', 'United States', 'Ukraine', 'Italy', 'Belarus',\n",
       "       '(not set)', 'Sweden', 'Australia', 'Kazakhstan', 'Estonia',\n",
       "       'Azerbaijan', 'Brazil', 'Montenegro', 'Bulgaria', 'Georgia',\n",
       "       'Uzbekistan', 'Tajikistan', 'Ireland', 'Cyprus',\n",
       "       'United Arab Emirates', 'Germany', 'United Kingdom', 'Netherlands',\n",
       "       'Spain', 'Finland', 'Turkey', 'Poland', 'Kyrgyzstan', 'India',\n",
       "       'Bangladesh', 'Latvia', 'Seychelles', 'Norway', 'Armenia',\n",
       "       'Argentina', 'Guatemala', 'Lithuania', 'Iraq', 'Canada', 'Greece',\n",
       "       'Antigua & Barbuda', 'France', 'Slovakia', 'Palestine',\n",
       "       'Saudi Arabia', 'Iran', 'Czechia', 'Austria', 'Singapore',\n",
       "       'Moldova', 'Indonesia', 'Dominican Republic', 'Denmark', 'Albania',\n",
       "       'Switzerland', 'China', 'Portugal', 'Israel', 'Slovenia',\n",
       "       'Iceland', 'Maldives', 'Mexico', 'Wallis & Futuna', 'Egypt',\n",
       "       'Guadeloupe', 'South Korea', 'Hungary', 'Uganda',\n",
       "       'Bosnia & Herzegovina', 'Thailand', 'Romania', 'Turkmenistan',\n",
       "       'Lebanon', 'Algeria', 'Croatia', 'Cuba', 'Sudan', 'Cambodia',\n",
       "       'Pakistan', 'Afghanistan', 'Vietnam', 'Mongolia', 'Mauritius',\n",
       "       'South Sudan', 'Japan', 'Central African Republic', 'Malta',\n",
       "       'Burundi', 'Tunisia', 'Ecuador', 'Qatar', 'Serbia', 'Morocco',\n",
       "       'Luxembourg', 'Belgium', 'North Macedonia', 'Togo', 'Kuwait',\n",
       "       'Venezuela', 'Sri Lanka', 'South Africa', 'Angola', 'Guinea',\n",
       "       'Kenya', 'Senegal', 'Bahrain', 'Libya', 'Puerto Rico', 'Nicaragua',\n",
       "       'Syria', 'Oman', 'Myanmar (Burma)', 'Nigeria', 'Jordan', 'Chile',\n",
       "       'Hong Kong', 'Congo - Kinshasa', 'Andorra', 'Yemen', 'Colombia',\n",
       "       'Laos', 'Peru', 'Taiwan', 'Rwanda', 'Malaysia', 'Mozambique',\n",
       "       'New Zealand', 'Zimbabwe', 'Panama', 'Monaco', 'Namibia',\n",
       "       'Tanzania', 'New Caledonia', 'Ghana', 'Philippines', 'Gibraltar',\n",
       "       'Ethiopia', 'Paraguay', 'Mali', 'Barbados', 'Réunion',\n",
       "       'Svalbard & Jan Mayen', 'Haiti', 'Somalia', 'Aruba',\n",
       "       'Sierra Leone', 'Uruguay', 'North Korea', 'Nepal', 'Faroe Islands',\n",
       "       'Guernsey', 'French Guiana', 'Costa Rica', 'Burkina Faso',\n",
       "       'Côte d’Ivoire', 'Equatorial Guinea', 'Cameroon', 'Madagascar',\n",
       "       'Congo - Brazzaville'], dtype=object)"
      ]
     },
     "metadata": {},
     "output_type": "display_data"
    },
    {
     "data": {
      "text/plain": [
       "159"
      ]
     },
     "metadata": {},
     "output_type": "display_data"
    },
    {
     "data": {
      "text/plain": [
       "'------ geo_city ------'"
      ]
     },
     "metadata": {},
     "output_type": "display_data"
    },
    {
     "data": {
      "text/plain": [
       "array(['Zlatoust', 'Moscow', 'Krasnoyarsk', ..., 'Rosenheim', 'Palatka',\n",
       "       'Hagenow'], dtype=object)"
      ]
     },
     "metadata": {},
     "output_type": "display_data"
    },
    {
     "data": {
      "text/plain": [
       "2389"
      ]
     },
     "metadata": {},
     "output_type": "display_data"
    },
    {
     "data": {
      "text/plain": [
       "'------ hit_number ------'"
      ]
     },
     "metadata": {},
     "output_type": "display_data"
    },
    {
     "data": {
      "text/plain": [
       "array([  3,   4,  10,  13,  20,  11,  14,  17,  18,   8,   9,  15,  16,\n",
       "        19,  12,   7,   2,   6,   5,  25,  27,  34,  23,  35,  29,  37,\n",
       "        24,  26,  33,  36,  28,  40,  45,  60,  31,  72,  64,  71,  73,\n",
       "        21,  30,  41,  63,  62,  43,  51,  49,  48,  46,  47,  50,  56,\n",
       "        55,  53,  52,  57,  54,  59,  44,  61,  38,  39,  42,  58,  22,\n",
       "        82,   1,  93, 112, 121, 115,  80,  95,  96,  68,  78, 123,  91,\n",
       "        85,  84,  66,  77,  89,  81,  67, 114, 125, 111,  69,  75, 122,\n",
       "       124,  97,  90,  79, 116,  76, 120, 107, 102, 110, 119, 101,  65,\n",
       "       100, 103,  94, 106,  74,  88, 104,  92, 105, 113,  70,  83,  32,\n",
       "       109, 118, 117, 108,  99,  87,  86,  98, 136, 138, 139, 137, 127,\n",
       "       126, 128, 132, 131, 135, 134, 129, 133, 130, 140, 143, 141, 142,\n",
       "       160, 180, 170, 190, 153, 155, 157, 146, 148, 144, 177, 173, 175,\n",
       "       163, 167, 165, 187, 183, 185, 193, 159, 150, 179, 169, 189, 154,\n",
       "       158, 156, 145, 147, 149, 176, 174, 178, 168, 164, 166, 184, 186,\n",
       "       188, 194, 223, 171, 181, 191, 213, 201, 172, 182, 161, 162, 192,\n",
       "       152, 151, 195, 196, 197, 200, 230, 216, 226, 205, 219, 218, 206,\n",
       "       224, 202, 207, 209, 228, 215, 210, 211, 214, 225, 199, 217, 220,\n",
       "       227, 198, 229, 208, 221, 273, 359, 269, 307, 274, 284, 286, 258,\n",
       "       335, 240, 250, 271, 360, 247, 204, 283, 341, 343, 347, 314, 322,\n",
       "       236, 327, 309, 346, 290, 293, 296, 232, 242, 302, 326, 333, 315,\n",
       "       324, 288, 251, 355, 243, 252, 255, 261, 264, 304, 317, 237, 350,\n",
       "       337, 277, 280, 339, 345, 287, 289, 246, 234, 262, 331, 361, 233,\n",
       "       272, 356, 299, 344, 298, 338, 253, 268, 270, 305, 308, 334, 265,\n",
       "       319, 292, 297, 203, 281, 295, 244, 263, 306, 312, 325, 235, 303,\n",
       "       332, 256, 285, 275, 276, 278, 291, 294, 212, 239, 254, 358, 245,\n",
       "       260, 313, 323, 357, 328, 352, 279, 348, 282, 349, 222, 316, 318,\n",
       "       336, 231, 351, 340, 342, 238, 241, 425, 453, 415, 488, 481, 395,\n",
       "       392, 432, 441, 311, 424, 452, 430, 373, 439, 364, 498, 385, 467,\n",
       "       389, 469, 444, 442, 417, 454, 369, 475, 405, 362, 489, 500, 416,\n",
       "       266, 445, 368, 390, 437, 451, 435, 413, 459, 365, 482, 440, 420,\n",
       "       480, 473, 474, 422, 443, 391, 402, 418, 378, 487, 494, 376, 410,\n",
       "       267, 495, 431, 476, 426, 497, 257, 400, 450, 446, 381, 499, 372,\n",
       "       458, 468, 377, 370, 427, 419, 449, 421, 382, 448, 329, 354, 463,\n",
       "       375, 423, 457, 479, 434, 363, 388, 436, 465, 404, 249, 407, 428,\n",
       "       301, 447, 464, 396, 393, 412, 300, 398, 477, 470, 484, 478, 466,\n",
       "       374, 491, 248, 383, 379, 380, 486, 394, 433, 472, 401, 366, 490,\n",
       "       455, 406, 397, 492, 496, 399, 310, 403, 462, 371, 367, 387, 386,\n",
       "       461, 429, 493, 411, 409, 408, 471, 485, 460, 438, 483, 414, 330,\n",
       "       259, 456, 384, 353, 321, 320], dtype=int64)"
      ]
     },
     "metadata": {},
     "output_type": "display_data"
    },
    {
     "data": {
      "text/plain": [
       "500"
      ]
     },
     "metadata": {},
     "output_type": "display_data"
    },
    {
     "data": {
      "text/plain": [
       "'------ hit_page_path ------'"
      ]
     },
     "metadata": {},
     "output_type": "display_data"
    },
    {
     "data": {
      "text/plain": [
       "array(['podpiska.sberauto.com/',\n",
       "       'sberauto.com/cars?utm_source_initial=sbol&utm_medium_initial=banner&utm_campaign_initial=LEoPHuyFvzoNfnzGgfcd&utm_content_initial=vCIpmpaGBnIQhyYNkXqp&city=1&rental_page=rental_only&rental_car=rental_only&city=18',\n",
       "       'sberauto.com/cars?city=1&rental_page=rental_only&rental_car=rental_only&city=18',\n",
       "       ..., 'podpiska.sberauto.com/?yclid=4767447644298315236',\n",
       "       'sberauto.com/cars?yzclid=6895515275004536207&rental_car=rental_only?utm_source&page=1',\n",
       "       'podpiska.sberauto.com/?yclid=1459011418004652031'], dtype=object)"
      ]
     },
     "metadata": {},
     "output_type": "display_data"
    },
    {
     "data": {
      "text/plain": [
       "342242"
      ]
     },
     "metadata": {},
     "output_type": "display_data"
    },
    {
     "data": {
      "text/plain": [
       "'------ visit_datetime ------'"
      ]
     },
     "metadata": {},
     "output_type": "display_data"
    },
    {
     "data": {
      "text/plain": [
       "array(['2021-11-24 14:36:32', '2021-11-14 08:21:30',\n",
       "       '2021-12-28 02:42:06', ..., '2021-12-22 10:48:25',\n",
       "       '2021-11-29 15:36:44', '2021-12-31 19:39:02'], dtype=object)"
      ]
     },
     "metadata": {},
     "output_type": "display_data"
    },
    {
     "data": {
      "text/plain": [
       "661195"
      ]
     },
     "metadata": {},
     "output_type": "display_data"
    },
    {
     "data": {
      "text/plain": [
       "'------ event_target ------'"
      ]
     },
     "metadata": {},
     "output_type": "display_data"
    },
    {
     "data": {
      "text/plain": [
       "array([False,  True])"
      ]
     },
     "metadata": {},
     "output_type": "display_data"
    },
    {
     "data": {
      "text/plain": [
       "2"
      ]
     },
     "metadata": {},
     "output_type": "display_data"
    }
   ],
   "source": [
    "def print_uniq_vals():\n",
    "    column_names = merged_df.columns.tolist()\n",
    "    for column in column_names:\n",
    "        display(f'------ {column} ------')\n",
    "        display(merged_df[column].unique())\n",
    "        display(merged_df[column].nunique())\n",
    "print_uniq_vals()"
   ]
  },
  {
   "cell_type": "code",
   "execution_count": null,
   "id": "e5a28472",
   "metadata": {},
   "outputs": [],
   "source": []
  }
 ],
 "metadata": {
  "kernelspec": {
   "display_name": "Python 3 (ipykernel)",
   "language": "python",
   "name": "python3"
  },
  "language_info": {
   "codemirror_mode": {
    "name": "ipython",
    "version": 3
   },
   "file_extension": ".py",
   "mimetype": "text/x-python",
   "name": "python",
   "nbconvert_exporter": "python",
   "pygments_lexer": "ipython3",
   "version": "3.11.4"
  }
 },
 "nbformat": 4,
 "nbformat_minor": 5
}
