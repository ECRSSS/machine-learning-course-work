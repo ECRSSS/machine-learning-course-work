{
 "cells": [
  {
   "cell_type": "code",
   "execution_count": 28,
   "id": "bc8de0db",
   "metadata": {},
   "outputs": [],
   "source": [
    "import xgboost as xgb\n",
    "\n",
    "from sklearn.metrics import roc_auc_score\n",
    "\n",
    "from hpsklearn import HyperoptEstimator, svc, xgboost_classification, any_classifier, any_preprocessing"
   ]
  },
  {
   "cell_type": "code",
   "execution_count": 29,
   "id": "a78d3272",
   "metadata": {},
   "outputs": [],
   "source": [
    "\n",
    "from hyperopt import STATUS_OK, Trials, fmin, hp, tpe\n"
   ]
  },
  {
   "cell_type": "code",
   "execution_count": 30,
   "id": "74ff78a7",
   "metadata": {},
   "outputs": [],
   "source": [
    "from sklearn.model_selection import RandomizedSearchCV, GridSearchCV\n",
    "\n",
    "import matplotlib.pyplot as plt\n",
    "import pandas as pd\n",
    "\n",
    "from sklearn.linear_model import LogisticRegression, LinearRegression\n",
    "from sklearn.metrics import accuracy_score, confusion_matrix, mean_absolute_error\n",
    "from sklearn.model_selection import train_test_split \n",
    "from sklearn.neural_network import MLPClassifier\n"
   ]
  },
  {
   "cell_type": "code",
   "execution_count": 31,
   "id": "c06bc61c",
   "metadata": {},
   "outputs": [],
   "source": [
    "merged_df = pd.read_csv('processed_data/prepared_featured_balanced_sample_5.csv').drop('Unnamed: 0',axis=1)"
   ]
  },
  {
   "cell_type": "code",
   "execution_count": 32,
   "id": "2acf8a0e",
   "metadata": {},
   "outputs": [],
   "source": [
    "x = merged_df.drop(['event_target'],axis=1)\n",
    "y = merged_df['event_target']\n",
    "\n",
    "X_train, X_test, y_train, y_test = train_test_split(x, y, test_size=0.2, random_state=42)"
   ]
  },
  {
   "cell_type": "code",
   "execution_count": 55,
   "id": "72cfee77",
   "metadata": {},
   "outputs": [],
   "source": [
    "def fit_and_result(clf):\n",
    "    clf.fit(X_train, y_train)\n",
    "\n",
    "    clf_train_pred = clf.predict(X_train)\n",
    "    clf_test_pred = clf.predict(X_test)\n",
    "\n",
    "    print('Точность на тренировочной выборке')\n",
    "    print(accuracy_score(y_train, clf_train_pred))\n",
    "    print('Точность на тестовой выборке')\n",
    "    print(accuracy_score(y_test, clf_test_pred))\n",
    "    \n",
    "    \n",
    "    score = roc_auc_score(y_test, clf.predict_proba(X_test)[:,1])\n",
    "    print(f\"\\n\\nROC AUC TEST: {score:.4f}\")"
   ]
  },
  {
   "cell_type": "code",
   "execution_count": 33,
   "id": "b4a692cb",
   "metadata": {},
   "outputs": [],
   "source": [
    "import warnings\n",
    "warnings.simplefilter(action='ignore', category=pd.errors.PerformanceWarning)\n",
    "warnings.simplefilter(\"ignore\")"
   ]
  },
  {
   "cell_type": "code",
   "execution_count": 57,
   "id": "e6a8a23c",
   "metadata": {},
   "outputs": [
    {
     "name": "stdout",
     "output_type": "stream",
     "text": [
      "---------                                                                                                              \n",
      "CrossValMean:                                                                                                          \n",
      "0.6359019635275165                                                                                                     \n",
      "---------                                                                                                              \n",
      "CrossValMean:                                                                                                          \n",
      "0.6379085481088158                                                                                                     \n",
      "---------                                                                                                              \n",
      "CrossValMean:                                                                                                          \n",
      "0.6442913766631285                                                                                                     \n",
      "  2%|▋                                               | 3/200 [00:41<45:38, 13.90s/trial, best loss: 0.3557086233368715]\n"
     ]
    },
    {
     "name": "stderr",
     "output_type": "stream",
     "text": [
      "\n",
      "KeyboardInterrupt\n",
      "\n"
     ]
    }
   ],
   "source": [
    "from hyperopt import hp, STATUS_OK, Trials, fmin, tpe\n",
    "from sklearn.model_selection import cross_val_score\n",
    "\n",
    "\n",
    "def objective(space):\n",
    "\n",
    "    warnings.filterwarnings(action='ignore', category=DeprecationWarning)\n",
    "    classifier = xgb.XGBClassifier(n_estimators = space['n_estimators'],\n",
    "                            max_depth = int(space['max_depth']),\n",
    "                            learning_rate = space['learning_rate'],\n",
    "                            gamma = space['gamma'],\n",
    "                            min_child_weight = space['min_child_weight'],\n",
    "                            subsample = space['subsample'],\n",
    "                            colsample_bytree = space['colsample_bytree'],\n",
    "                            booster = 'gbtree'\n",
    "                            )\n",
    "    \n",
    "    classifier.fit(X_train, y_train)\n",
    "\n",
    "    # Applying k-Fold Cross Validation\n",
    "    from sklearn.model_selection import cross_val_score\n",
    "    accuracies = cross_val_score(estimator = classifier, scoring='roc_auc', X = X_test, y = y_test, cv = 10)\n",
    "    CrossValMean = accuracies.mean()\n",
    "    \n",
    "    print('---------')\n",
    "    print(\"CrossValMean AUC SCORE:\", CrossValMean)\n",
    "\n",
    "\n",
    "    return{'loss':1-CrossValMean, 'status': STATUS_OK }\n",
    "\n",
    "space = {\n",
    "     'reg_alpha' : hp.quniform('reg_alpha', 40,180,1),\n",
    "        'reg_lambda' : hp.uniform('reg_lambda', 0,1),\n",
    "    'colsample_bytree' : hp.uniform('colsample_bytree', 0.5,1),\n",
    "    \n",
    "    'max_depth' : hp.choice('max_depth', range(5, 30, 1)),\n",
    "    'learning_rate' : hp.quniform('learning_rate', 0.01, 0.5, 0.01),\n",
    "    'n_estimators' : hp.choice('n_estimators', range(20, 800, 50)),\n",
    "    'gamma' : hp.quniform('gamma', 0, 0.50, 0.01),\n",
    "    'min_child_weight' : hp.quniform('min_child_weight', 1, 10, 1),\n",
    "    'subsample' : hp.quniform('subsample', 0.1, 1, 0.01),\n",
    "    'colsample_bytree' : hp.quniform('colsample_bytree', 0.1, 1.0, 0.01),\n",
    "    'eta' : hp.quniform('eta', 0.1, 1 , 0.1),\n",
    "    'tree_method' : hp.choice('tree_method', ('auto', 'exact', 'approx', 'hist'))\n",
    "}\n",
    "\n",
    "trials = Trials()\n",
    "best = fmin(fn=objective,\n",
    "            space=space,\n",
    "            algo=tpe.suggest,\n",
    "            max_evals=200,\n",
    "            trials=trials)\n",
    "\n",
    "print(\"Best: \", best)\n",
    "\n",
    "\n",
    "# Fitting XGBoost to the Training set\n",
    "from xgboost import XGBClassifier\n",
    "classifier = XGBClassifier(n_estimators = best['n_estimators'],\n",
    "                            max_depth = best['max_depth'],\n",
    "                            learning_rate = best['learning_rate'],\n",
    "                            gamma = best['gamma'],\n",
    "                            min_child_weight = best['min_child_weight'],\n",
    "                            subsample = best['subsample'],\n",
    "                            colsample_bytree = best['colsample_bytree'],\n",
    "                            eta = best['eta'],\n",
    "                            tree_method = best['tree_method']\n",
    "                            )\n",
    "\n",
    "classifier.fit(X_train, y_train)\n"
   ]
  },
  {
   "cell_type": "code",
   "execution_count": 46,
   "id": "9d29c849",
   "metadata": {},
   "outputs": [],
   "source": [
    "best_params = {'colsample_bytree': 0.5, 'eta': 0.8, 'gamma': 0.24, 'learning_rate': 0.04, 'max_depth': 5, 'min_child_weight': 4.0, 'n_estimators': 27, 'subsample': 0.75}"
   ]
  },
  {
   "cell_type": "code",
   "execution_count": 47,
   "id": "92dd4e26",
   "metadata": {},
   "outputs": [],
   "source": [
    "xgb_final_clf = XGBClassifier(**best_params)"
   ]
  },
  {
   "cell_type": "code",
   "execution_count": 56,
   "id": "95b80038",
   "metadata": {},
   "outputs": [
    {
     "name": "stdout",
     "output_type": "stream",
     "text": [
      "Точность на тренировочной выборке\n",
      "0.601772899957788\n",
      "Точность на тестовой выборке\n",
      "0.5995812791247384\n",
      "\n",
      "\n",
      "ROC AUC TEST: 0.6589\n"
     ]
    }
   ],
   "source": [
    "fit_and_result(xgb_final_clf)"
   ]
  },
  {
   "cell_type": "code",
   "execution_count": 52,
   "id": "1f7dfa91",
   "metadata": {},
   "outputs": [
    {
     "data": {
      "text/plain": [
       "array([0.6386161 , 0.65757365])"
      ]
     },
     "execution_count": 52,
     "metadata": {},
     "output_type": "execute_result"
    }
   ],
   "source": [
    "cross_val_score(estimator = xgb_final_clf, scoring='roc_auc', X = X_test, y = y_test, cv = 10)"
   ]
  },
  {
   "cell_type": "code",
   "execution_count": null,
   "id": "651c293f",
   "metadata": {},
   "outputs": [],
   "source": []
  }
 ],
 "metadata": {
  "kernelspec": {
   "display_name": "Python 3 (ipykernel)",
   "language": "python",
   "name": "python3"
  },
  "language_info": {
   "codemirror_mode": {
    "name": "ipython",
    "version": 3
   },
   "file_extension": ".py",
   "mimetype": "text/x-python",
   "name": "python",
   "nbconvert_exporter": "python",
   "pygments_lexer": "ipython3",
   "version": "3.11.4"
  }
 },
 "nbformat": 4,
 "nbformat_minor": 5
}
